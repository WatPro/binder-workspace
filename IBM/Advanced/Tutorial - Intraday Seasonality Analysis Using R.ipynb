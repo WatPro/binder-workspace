{
 "cells": [
  {
   "cell_type": "markdown",
   "metadata": {},
   "source": [
    "# Intraday Seasonality Analysis Using DB2 and R\n",
    "\n",
    "This notebook shows how to extract and visualize intraday seasonality data for financial securities from DB2 using R. This notebook covers the following:\n",
    "\n",
    "1. Load the IPython R extension\n",
    "1. Install required R packages\n",
    "1. Connect to a DB2 database\n",
    "1. Implement an R function that:\n",
    "    * Queries a DB2 database for intraday seasonality data for a security\n",
    "    * Plots the query results\n",
    "1. Plot intraday seasonality for select securities\n",
    "\n",
    "## Load the IPython R Extension\n",
    "\n",
    "In order to execute R commands in the IBM Knowledge Anyhow Workbench, you have to load the R extension for IPython. More information is available in the [Rpy2 documentation](http://rpy.sourceforge.net/rpy2/doc-2.4/html/interactive.html).  Run the following command to load the rpy IPython extension:"
   ]
  },
  {
   "cell_type": "code",
   "execution_count": null,
   "metadata": {
    "collapsed": false
   },
   "outputs": [],
   "source": [
    "%load_ext rpy2.ipython"
   ]
  },
  {
   "cell_type": "markdown",
   "metadata": {},
   "source": [
    "Now, you can run R commands directly in the notebook. Prefix notebook cells with the `%%R` IPython notebook cell magic. All commands in that notebook cell are interpreted as R commands."
   ]
  },
  {
   "cell_type": "markdown",
   "metadata": {},
   "source": [
    "## Install Required R Packages\n",
    "Download and install the `rjson` package from [CRAN](http://cran.r-project.org/). This package reads JSON files from within the R environment.\n",
    "\n",
    "<div class=\"alert alert-block alert-info\" style=\"margin-top: 20px\">**Note:** Here we install an archived version of the **rjson** package that is compatible with the version of R we are running in the IBM Knowledge Anyhow Workbench.</div>\n"
   ]
  },
  {
   "cell_type": "code",
   "execution_count": null,
   "metadata": {
    "collapsed": false
   },
   "outputs": [],
   "source": [
    "!wget http://cran.r-project.org/src/contrib/Archive/rjson/rjson_0.2.14.tar.gz -O /home/notebook/R/rjson_0.2.14.tar.gz"
   ]
  },
  {
   "cell_type": "code",
   "execution_count": null,
   "metadata": {
    "collapsed": false
   },
   "outputs": [],
   "source": [
    "%%R\n",
    "install.packages(\"/home/notebook/R/rjson_0.2.14.tar.gz\", repos=NULL, type=\"source\")"
   ]
  },
  {
   "cell_type": "markdown",
   "metadata": {},
   "source": [
    "The above command installs the `rjson` package in your IBM Knowledge Anyhow Workbench. This package is now available to all notebooks. \n",
    "\n",
    "<div class=\"alert alert-block alert-info\" style=\"margin-top: 20px\">**Note:** You only need to run this step once. Rerunning the command will simply overwrite an existing install of <span style=\"white-space: pre;font-family: monospace;\">rjson</span> in <span style=\"white-space: pre;font-family: monospace;\">/home/notebook/R/library/rjson</span>.\n",
    "\n",
    "Also note, that connecting to DB2 requires a DB2 driver which is already pre-installed in your IBM Knowledge Anyhow Workbench in <span style=\"white-space: pre;font-family: monospace;\">/opt/db2_v10.5_linuxamd64/clidriver/lib/libdb2.so</span> and the <span style=\"white-space: pre;font-family: monospace;\">RODBC</span> R package which is pre-installed in <span style=\"white-space: pre;font-family: monospace;\">/usr/lib/R/site-library/RODBC/</span>.</div>\n",
    "</div>\n",
    "\n",
    "## Connect to a DB2 Database\n",
    "\n",
    "If you have not previously done so as part of another tutorial, **[click here to import the credentials file](/tutorials/eurex/db2_bludb_credentials.json)** into your workbench.\n",
    "\n",
    "You should now see the `db2_bludb_credentials.json` file in your \"Recent Data\" panel.\n",
    "\n",
    "Create a database connection `channel`:"
   ]
  },
  {
   "cell_type": "code",
   "execution_count": null,
   "metadata": {
    "collapsed": false
   },
   "outputs": [],
   "source": [
    "%%R\n",
    "library(rjson) # load rjson library, used to read JSON credentials file\n",
    "library(RODBC) # load RODBC library, used to create ODBC database connection\n",
    "\n",
    "# load the database credentials JSON file\n",
    "db_credentials <- fromJSON(file='/resources/db2_bludb_credentials.json', method='C')\n",
    "# create an odbc.ini configuration file in the user's home directory, using the db credentials\n",
    "odbc_text <- paste('[ODBC Data Source]\\n',\n",
    "                   '[', db_credentials['dsn_database'] , ']\\n',\n",
    "                   'Driver=', db_credentials['odbc_driver_dir'], '\\n',\n",
    "                   'Authentication=', db_credentials['odbc_authentication'], '\\n', sep='')\n",
    "odbc_file_absolute_path <- file.path(Sys.getenv('HOME'), '.odbc.ini')\n",
    "cat(odbc_text, file = odbc_file_absolute_path)\n",
    "# create ODBC DSN connection string, using the db credentials\n",
    "dsn <- paste('DSN=', db_credentials['dsn_database'] , ';',\n",
    "             'DATABASE=', db_credentials['dsn_database'] , ';',\n",
    "             'HOSTNAME=', db_credentials['dsn_hostname'] , ';',\n",
    "             'PORT=', db_credentials['dsn_port'] , ';',\n",
    "             'PROTOCOL=', db_credentials['dsn_protocol'] , ';',\n",
    "             'UID=', db_credentials['dsn_uid'] , ';',\n",
    "             'PWD=', db_credentials['dsn_pwd'] , ';',\n",
    "             sep='')\n",
    "# create DB2 connection channel, using the dsn\n",
    "channel <- odbcDriverConnect(dsn, believeNRows = FALSE) # create database connection\n",
    "odbcGetInfo(channel) # show database connection info to verify successful connection"
   ]
  },
  {
   "cell_type": "markdown",
   "metadata": {},
   "source": [
    "<div class=\"alert alert-block alert-info\" style=\"margin-top: 20px\">**Note:** You can find details about this code and an in-depth description about creating a DB2 database connection in the **Tutorial - Access DB2 Using R** that you can download from our [Welcome](/pages/welcome) page.\n",
    "</div>\n",
    "\n",
    "## Implement `analyse_seasonality` R Function\n",
    "The following code snippet implements a function that issues a SQL query against the `eurex` DB2 database containing financial data. Furthermore, it plots a graph of the results:"
   ]
  },
  {
   "cell_type": "code",
   "execution_count": null,
   "metadata": {
    "collapsed": false
   },
   "outputs": [],
   "source": [
    "%%R\n",
    "analyse_seasonality = function(secid)\n",
    "{\n",
    "    sqlstring = paste(\"\n",
    "        select minute, \n",
    "            avg(vwaprice) as vwaprice, \n",
    "            avg(range1) as range, \n",
    "            avg(units) as units, \n",
    "            avg(buyunits) as buyunits,\n",
    "            avg(sellunits) as sellunits\n",
    "        from (select \n",
    "             date(data_timestamp),\n",
    "             minute(data_timestamp) as Minute,\n",
    "             sum(units*price)/sum(units) as vwaprice,\n",
    "             max(price)-min(price) as range1,\n",
    "             sum(units) as units,\n",
    "             sum(aggressor_side*units) as buyunits,\n",
    "             sum((1-aggressor_side)*units) as sellunits\n",
    "            from eurex.f_eurex_trades\n",
    "            where security_id = \",secid,\"\n",
    "            and hour(data_timestamp) < '22'\n",
    "            group by date(data_timestamp),minute(data_timestamp)\n",
    "            order by date(data_timestamp), minute(data_timestamp)) as a\n",
    "        group by minute\n",
    "        order by minute\",sep=\"\")\n",
    "    # query intraday seasonality stats\n",
    "    datatab = sqlQuery(channel, sqlstring)\n",
    "    \n",
    "    # query product name to be included in visualization\n",
    "    product_id_sql_string = paste(\"select distinct product_id\n",
    "                                   from eurex.f_eurex_trades\n",
    "                                   where security_id =\", secid, sep=\"\")\n",
    "    product_id = sqlQuery(channel, product_id_sql_string)\n",
    "    product = product_id[,'PRODUCT_ID']\n",
    "\n",
    "    # configure layout of multiple graphs, plot graphs\n",
    "    layout(c(1,kronecker(2:5,rep(1,1.8))))\n",
    "    plot(0,yaxt='n',col='white',frame.plot=0,xlab=\"\",ylab=\"\",xaxt='n')\n",
    "    title_string = paste('Intraday seasonalities - averages per minute: ', product, '-', secid, sep=\" \")\n",
    "    title(main=title_string, line = -3)\n",
    "    par(mar=c(2,3.5,2,0)) # set margins\n",
    "    plot(datatab[,'VWAPRICE'],type='h',las=1,frame.plot=0,xlab=\"\",ylab=\"\",col='darkblue',xaxt='n')\n",
    "    axis(1,c(0:14*60+1,840),datatab[c(0:14*60+1,840),'minute'])\n",
    "    title(main='Prices')\n",
    "    \n",
    "    plot(datatab[,'RANGE'],type='h',las=1,frame.plot=0,xlab=\"\",ylab=\"\",col='darkblue',xaxt='n')\n",
    "    axis(1,c(0:14*60+1,840),datatab[c(0:14*60+1,840),'minute']) \n",
    "    title(main='Price range')\n",
    "    \n",
    "    plot(datatab[,'UNITS'],type='h',las=1,frame.plot=0,xlab=\"\",ylab=\"\",col='darkblue',xaxt='n')\n",
    "    axis(1,c(0:14*60+1,840),datatab[c(0:14*60+1,840),'minute']) \n",
    "    title(main='Traded contracts')\n",
    "    \n",
    "    plot(abs(datatab[,'BUYUNITS']-datatab[,'SELLUNITS'])/datatab[,'UNITS'],type='h',las=1,frame.plot=0,xlab=\"\",ylab=\"\",col='darkblue',xaxt='n')\n",
    "    axis(1,c(0:14*60+1,840),datatab[c(0:14*60+1,840),'minute']) \n",
    "    title(main='Order imbalance')\n",
    "}"
   ]
  },
  {
   "cell_type": "markdown",
   "metadata": {},
   "source": [
    "## Plot Intraday Seasonality for Select Securities\n",
    "\n",
    "Let's test the `analyse_seasonality` function by invoking it for the FDAX security ID **464957**. You should see a set of plots titled \"Intraday seasonalities - averages per minute: FDAX - 464957\".\n",
    "\n",
    "<div class=\"alert alert-block alert-info\" style=\"margin-top: 20px\">**Note:** The <span style=\"white-space: pre;font-family: monospace;\">%%time</span> notebook magic function at the top of the cell measures and prints the cell execution time. It provides an easy way to measure performance of long running tasks during your analysis.\n",
    "</div>"
   ]
  },
  {
   "cell_type": "code",
   "execution_count": null,
   "metadata": {
    "collapsed": false
   },
   "outputs": [],
   "source": [
    "%%time\n",
    "%%R\n",
    "analyse_seasonality(464957)"
   ]
  },
  {
   "cell_type": "markdown",
   "metadata": {},
   "source": [
    "Having confirmed that the `analyse_seasonality` function works, let's invoke the function for additional securities."
   ]
  },
  {
   "cell_type": "code",
   "execution_count": null,
   "metadata": {
    "collapsed": false
   },
   "outputs": [],
   "source": [
    "%%javascript\n",
    "IPython.OutputArea.auto_scroll_threshold = 500; // prevent cell output from scrolling"
   ]
  },
  {
   "cell_type": "code",
   "execution_count": null,
   "metadata": {
    "collapsed": false
   },
   "outputs": [],
   "source": [
    "%%time\n",
    "%%R\n",
    "analyse_seasonality(464977)\n",
    "analyse_seasonality(454608)\n",
    "analyse_seasonality(566988)\n",
    "analyse_seasonality(567008)\n",
    "analyse_seasonality(558044)\n",
    "analyse_seasonality(661030)\n",
    "analyse_seasonality(661055)\n",
    "analyse_seasonality(653147)\n",
    "analyse_seasonality(760534)\n",
    "analyse_seasonality(760554)\n",
    "analyse_seasonality(750818)\n",
    "analyse_seasonality(855848)\n",
    "analyse_seasonality(855868)\n",
    "analyse_seasonality(847251)"
   ]
  },
  {
   "cell_type": "markdown",
   "metadata": {},
   "source": [
    "## Next Steps"
   ]
  },
  {
   "cell_type": "markdown",
   "metadata": {},
   "source": [
    "Feel free to analyze additional securities.  To obtain a list of **all** valid security IDs, run the following query:"
   ]
  },
  {
   "cell_type": "code",
   "execution_count": null,
   "metadata": {
    "collapsed": false
   },
   "outputs": [],
   "source": [
    "%%R\n",
    "security_ids_query = \"select distinct security_id, product_id\n",
    "                      from eurex.f_eurex_trades\n",
    "                      order by security_id\"\n",
    "security_ids = sqlQuery(channel, security_ids_query)\n",
    "options(scipen=999) # disable exponential notation for printing numbers\n",
    "security_ids"
   ]
  },
  {
   "cell_type": "markdown",
   "metadata": {},
   "source": [
    "# Summary \n",
    "In this tutorial you established a connection to a DB2 database from the Knowledge Anyhow Workbench. You queried and visualized data using R.\n",
    "\n",
    "Additional tutorials for the IBM Knowledge Anyhow Workbench are available on our [Welcome](/pages/welcome) page."
   ]
  },
  {
   "cell_type": "markdown",
   "metadata": {},
   "source": [
    "## Want to learn more?"
   ]
  },
  {
   "cell_type": "markdown",
   "metadata": {},
   "source": [
    "<a href=\"http://bigdatauniversity.com/courses/introduction-to-r/?utm_source=tutorial-intraday-seasonality-r&utm_medium=dswb&utm_campaign=bdu\"><img src = \"https://ibm.box.com/shared/static/r3jvb2wbr4meivra8swkmuf5uo30hd9g.png\"> </a>"
   ]
  },
  {
   "cell_type": "markdown",
   "metadata": {},
   "source": [
    "Created by: <a href=\"https://bigdatauniversity.com/?utm_source=bducreatedbylink&utm_medium=dswb&utm_campaign=bdu\">The Cognitive Class Team</a>"
   ]
  }
 ],
 "metadata": {
  "kernelspec": {
   "display_name": "Python 2",
   "language": "python",
   "name": "python2"
  },
  "language_info": {
   "codemirror_mode": {
    "name": "ipython",
    "version": 2
   },
   "file_extension": ".py",
   "mimetype": "text/x-python",
   "name": "python",
   "nbconvert_exporter": "python",
   "pygments_lexer": "ipython2",
   "version": "2.7.11"
  },
  "widgets": {
   "state": {},
   "version": "1.1.2"
  }
 },
 "nbformat": 4,
 "nbformat_minor": 0
}
