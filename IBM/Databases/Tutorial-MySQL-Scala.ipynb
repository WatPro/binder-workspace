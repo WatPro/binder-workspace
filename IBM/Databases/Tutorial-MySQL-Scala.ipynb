{
 "cells": [
  {
   "cell_type": "markdown",
   "metadata": {},
   "source": [
    "# Access MySQL Using Scala\n",
    "\n",
    "This notebook shows how to access MySQL using Scala by following the steps below:\n",
    "1. Import the _JDBC_ library\n",
    "1. Identify and enter the database connection credentials\n",
    "1. Create the database connection\n",
    "1. Create a table\n",
    "1. Instert some data into table\n",
    "1. Query the data\n",
    "1. Close the database connection\n",
    "\n",
    "\n",
    "## What is MySQL?\n",
    "\n",
    "MySQL is an open-source relational database management system (RDBMS) that is widely used as client–server model RDBMS.\n",
    "\n",
    "## Why MySQL?\n",
    "\n",
    "When dealing with large datasets (for example a 50 GB dataset) that potentially exceed the memory of your machine (RAM), it is nice to have another possibility such as a MySQL database, where you can query the data in smaller digestible chunks. In this way, you just query data in smaller chunks (for instance 2 GB), and leave resources for the computation.\n",
    "\n",
    "\n",
    "## Import the JDBC library\n",
    "Scala code gets compiled into byte code that runs on a Java™ virtual machine (JVM), which allows Scala applications to directly call Java libraries. Therefore, accessing MySQL from a Scala application is simply a matter of using the existing JDBC driver for DB2: the IBM Data Server Driver for JDBC and SQLJ."
   ]
  },
  {
   "cell_type": "code",
   "execution_count": null,
   "metadata": {
    "collapsed": false
   },
   "outputs": [],
   "source": [
    "import com.mysql.jdbc.Driver\n",
    "import java.sql.{Connection, DriverManager, ResultSet};\n",
    "java.sql.DriverManager.registerDriver(new com.ibm.db2.jcc.DB2Driver)"
   ]
  },
  {
   "cell_type": "markdown",
   "metadata": {},
   "source": [
    "## Confirm that MySQL is Running\n",
    "First, you should have a MySQL instance installed and running in the cloud. You can use [Amazon RDS (Relational Database Service)](http://aws.amazon.com/rds/mysql/) to set up, operate, and scale a MySQL instance.  \n",
    "__Notice:__ if you are using Amazon RDS service, make sure it accept connections from every IP.\n",
    "\n",
    "\n",
    "You can test to see if MySQL is installed by opening your terminal and typing “mysql”. If you receive an error that MySQL cannot connect, it means that MySQL is installed, but not running."
   ]
  },
  {
   "cell_type": "markdown",
   "metadata": {},
   "source": [
    "## Identify the database connection credentials\n",
    "\n",
    "Connecting to MySQL database requires the following information:\n",
    "* Host name or IP address \n",
    "* Host port\n",
    "* default database name\n",
    "* User ID\n",
    "* User Password\n",
    "\n",
    "All of this information must be captured in a connection string in a subsequent step."
   ]
  },
  {
   "cell_type": "code",
   "execution_count": null,
   "metadata": {
    "collapsed": true
   },
   "outputs": [],
   "source": [
    "//Enter the values for you database connection\n",
    "val dsn_database = \"\"            // e.g. \"MySQLdbtest\"\n",
    "val dsn_hostname = \"\" // e.g.: \"mydbinstance.cz6pjylrdjko.us-east-1.rds.amazonaws.com\"\n",
    "val dsn_port = 3306                // e.g. 3306 \n",
    "val dsn_uid = \"\"        // e.g. \"user1\"\n",
    "val dsn_pwd = \"\"      // e.g. \"7dBZ3jWt9xN6$o0JiX!m\""
   ]
  },
  {
   "cell_type": "markdown",
   "metadata": {},
   "source": [
    "## Create the database connection\n",
    "get a connection, if a connect cannot be made an exception will be raised here.  \n",
    "__connection__ will return a cursor object, you can use this cursor to perform queries"
   ]
  },
  {
   "cell_type": "code",
   "execution_count": null,
   "metadata": {
    "collapsed": false
   },
   "outputs": [],
   "source": [
    "val jdbcurl  = \"jdbc:mysql://\"+ dsn_hostname +\":\"+ dsn_port +\"/\"+ dsn_database +\"?user=\"+ dsn_uid +\"&password=\" +dsn_pwd\n",
    "val connection = java.sql.DriverManager.getConnection(jdbcurl)\n",
    "connection"
   ]
  },
  {
   "cell_type": "markdown",
   "metadata": {},
   "source": [
    "## Create a table\n",
    "We create a test table namely __Cars__. Use the below code to drop the __Cars__ table if it already exist and then create the table."
   ]
  },
  {
   "cell_type": "code",
   "execution_count": null,
   "metadata": {
    "collapsed": false
   },
   "outputs": [],
   "source": [
    "val statement = connection.createStatement\n",
    "statement.executeUpdate(\"DROP TABLE IF EXISTS Cars\")\n",
    "statement.executeUpdate(\"CREATE TABLE Cars(Id INTEGER PRIMARY KEY, Name VARCHAR(20), Price INT)\")"
   ]
  },
  {
   "cell_type": "markdown",
   "metadata": {},
   "source": [
    "## Instert some data into table\n",
    "Following cell shows how we can create records in our __Cars__ table created in above cell:"
   ]
  },
  {
   "cell_type": "code",
   "execution_count": null,
   "metadata": {
    "collapsed": false
   },
   "outputs": [],
   "source": [
    "statement.executeUpdate(\"INSERT INTO Cars VALUES(1,'Audi',52642)\")\n",
    "statement.executeUpdate(\"INSERT INTO Cars VALUES(2,'Mercedes',57127)\")\n",
    "statement.executeUpdate(\"INSERT INTO Cars VALUES(3,'Skoda',9000)\")\n",
    "statement.executeUpdate(\"INSERT INTO Cars VALUES(4,'Volvo',29000)\")\n",
    "statement.executeUpdate(\"INSERT INTO Cars VALUES(5,'Bentley',350000)\")\n",
    "statement.executeUpdate(\"INSERT INTO Cars VALUES(6,'Citroen',21000)\")\n",
    "statement.executeUpdate(\"INSERT INTO Cars VALUES(7,'Hummer',41400)\")\n",
    "statement.executeUpdate(\"INSERT INTO Cars VALUES(8,'Volkswagen',21600)\")"
   ]
  },
  {
   "cell_type": "markdown",
   "metadata": {},
   "source": [
    "## Query the data\n",
    "Following Scala code shows how we can fetch and display records from our __Cars__ table:\n",
    "\n",
    "To perform a query, you can use a cursor, and then you can execute queries on it:"
   ]
  },
  {
   "cell_type": "code",
   "execution_count": null,
   "metadata": {
    "collapsed": false
   },
   "outputs": [],
   "source": [
    "val statement = connection.createStatement\n",
    "val rs = statement.executeQuery(\"SELECT * FROM Cars\")\n",
    "while (rs.next) {\n",
    "  val host = rs.getString(\"Id\")\n",
    "  val user = rs.getString(\"Name\")\n",
    "  println(\"ID = %s, Car name = %s\".format(host,user))\n",
    "}"
   ]
  },
  {
   "cell_type": "markdown",
   "metadata": {
    "collapsed": true
   },
   "source": [
    "## Close the Connection\n",
    "It is good practice to close your database connection after work is done."
   ]
  },
  {
   "cell_type": "code",
   "execution_count": null,
   "metadata": {
    "collapsed": true
   },
   "outputs": [],
   "source": [
    "connection.close()"
   ]
  },
  {
   "cell_type": "markdown",
   "metadata": {},
   "source": [
    "## Want to learn more?"
   ]
  },
  {
   "cell_type": "markdown",
   "metadata": {},
   "source": [
    "<a href=\"http://bigdatauniversity.com/courses/scala-course/?utm_source=tutorial-mysql-scala&utm_medium=dswb&utm_campaign=bdu\"><img src = \"https://ibm.box.com/shared/static/qe9ofshd0nrhgcx7620cdf0a6mgn1qd2.png\"> </a>"
   ]
  },
  {
   "cell_type": "markdown",
   "metadata": {},
   "source": [
    "\n",
    "<h3>Authors:</h3>\n",
    "<article class=\"teacher\">\n",
    "<div class=\"teacher-image\" style=\"    float: left;\n",
    "    width: 115px;\n",
    "    height: 115px;\n",
    "    margin-right: 10px;\n",
    "    margin-bottom: 10px;\n",
    "    border: 1px solid #CCC;\n",
    "    padding: 3px;\n",
    "    border-radius: 3px;\n",
    "    text-align: center;\"><img class=\"alignnone wp-image-2258 \" src=\"https://ibm.box.com/shared/static/tyd41rlrnmfrrk78jx521eb73fljwvv0.jpg\" alt=\"Saeed Aghabozorgi\" width=\"178\" height=\"178\" /></div>\n",
    "<h4>Saeed Aghabozorgi</h4>\n",
    "<p><a href=\"https://ca.linkedin.com/in/saeedaghabozorgi\">Saeed Aghabozorgi</a>, PhD is a Data Scientist in IBM with a track record of developing enterprise level applications that substantially increases clients’ ability to turn data into actionable knowledge. He is a researcher in data mining field and expert in developing advanced analytic methods like machine learning and statistical modelling on large datasets.</p>\n",
    "</article>\n",
    "<article class=\"teacher\">\n",
    "<div class=\"teacher-image\" style=\"    float: left;\n",
    "    width: 115px;\n",
    "    height: 115px;\n",
    "    margin-right: 10px;\n",
    "    margin-bottom: 10px;\n",
    "    border: 1px solid #CCC;\n",
    "    padding: 3px;\n",
    "    border-radius: 3px;\n",
    "    text-align: center;\"><img class=\"alignnone size-medium wp-image-2177\" src=\"https://ibm.box.com/shared/static/2ygdi03ahcr97df2ofrr6cf8knq4kodd.jpg\" alt=\"Polong Lin\" width=\"300\" height=\"300\" /></div>\n",
    "<h4>Polong Lin</h4>\n",
    "<p>\n",
    "<a href=\"https://ca.linkedin.com/in/polonglin\">Polong Lin</a> is a Data Scientist at IBM in Canada. Under the Emerging Technologies division, Polong is responsible for educating the next generation of data scientists through Big Data University. Polong is a regular speaker in conferences and meetups, and holds a M.Sc. in Cognitive Psychology.</p>\n",
    "</article>"
   ]
  },
  {
   "cell_type": "markdown",
   "metadata": {},
   "source": [
    "<hr>\n",
    "Copyright &copy; 2016 [Big Data University](https://bigdatauniversity.com/?utm_source=bducopyrightlink&utm_medium=dswb&utm_campaign=bdu). This notebook and its source code are released under the terms of the [MIT License](https://bigdatauniversity.com/mit-license/).​"
   ]
  },
  {
   "cell_type": "code",
   "execution_count": null,
   "metadata": {
    "collapsed": true
   },
   "outputs": [],
   "source": []
  }
 ],
 "metadata": {
  "kernelspec": {
   "display_name": "Apache Toree - Scala",
   "language": "scala",
   "name": "apache_toree_scala"
  },
  "language_info": {
   "name": "scala"
  },
  "widgets": {
   "state": {},
   "version": "1.1.2"
  }
 },
 "nbformat": 4,
 "nbformat_minor": 0
}
