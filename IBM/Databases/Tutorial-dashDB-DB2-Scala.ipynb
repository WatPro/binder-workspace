{
 "cells": [
  {
   "cell_type": "markdown",
   "metadata": {},
   "source": [
    "# Connect to dashDB and DB2 using Scala\n",
    "\n",
    "This notebook shows how to access dashDB Data Warehouse (or a DB2 database) using Scala by following the steps below:\n",
    "1. Import the JDBC library\n",
    "1. Identify and enter the database connection credentials\n",
    "1. Create the database connection\n",
    "1. Query the data\n",
    "1. Close the database connection\n",
    "\n",
    "## What is dashDB ?\n",
    "\n",
    "**dashDB** is a fully managed cloud data warehouse, purpose-built for analytics. It offers massively parallel processing (MPP) scale, and compatibility with a wide range of business intelligence (BI) tools.  \n",
    "\n",
    "\n",
    "__Notice:__ Get your own dashDB free of charge: \n",
    "\n",
    "<h3 align = \"center\">\n",
    "<a href=\"https://console.ng.bluemix.net/?direct=classic/&amp;cm_mc_uid=&amp;cm_mc_sid_50200000=1453781614#/store/cloudOEPaneId=store&amp;serviceOfferingGuid=7c87c148-e1a4-4cb8-81f8-c5e74be7684b&CampID=DSWB\">Launch a dashDB service through Bluemix</a>\n",
    "</h3>\n",
    "\n",
    "<a class=\"ibm-tooltip\" href=\"https://console.ng.bluemix.net/catalog/services/dashdb\" target=\"_blank\" title=\"\" id=\"ibm-tooltip-0\">\n",
    "<img alt=\"IBM Bluemix.Get started now\" height=\"193\" width=\"153\" src=\"https://ibm.box.com/shared/static/42yt39czuksqdi278xpy96txtlw3lfmb.png\" >\n",
    "</a> \n",
    "\n",
    "## Import the JDBC library\n",
    "Scala code gets compiled into byte code that runs on a Java™ virtual machine (JVM), which allows Scala applications to directly call Java libraries. Therefore, accessing dashDB from a Scala application is simply a matter of using the existing JDBC driver for DB2: the IBM Data Server Driver for JDBC and SQLJ."
   ]
  },
  {
   "cell_type": "code",
   "execution_count": null,
   "metadata": {
    "collapsed": false
   },
   "outputs": [],
   "source": [
    "import com.ibm.db2.jcc._\n",
    "import java.sql.{Connection, DriverManager, ResultSet};\n",
    "java.sql.DriverManager.registerDriver(new com.ibm.db2.jcc.DB2Driver)"
   ]
  },
  {
   "cell_type": "markdown",
   "metadata": {
    "collapsed": false
   },
   "source": [
    "## Identify the database connection credentials\n",
    "\n",
    "Connecting to dashDB or DB2 database requires the following information:\n",
    "* Database name \n",
    "* Host DNS name or IP address \n",
    "* Host port\n",
    "* User ID\n",
    "* User Password\n",
    "\n",
    "All of this information must be captured in a connection string in a subsequent step.\n",
    "\n",
    "__Notice:__ To obtain credentials follow this [user guide](http://support.datascientistworkbench.com/knowledgebase/articles/826020-getting-credentials-to-access-a-dashdb-data-wareho)\n"
   ]
  },
  {
   "cell_type": "code",
   "execution_count": null,
   "metadata": {
    "collapsed": true
   },
   "outputs": [],
   "source": [
    "val dsn_username = \"<your username>\";  // e.g.  dash104434\n",
    "val dsn_password = \"<your password>\"   // e.g. xxxx\n",
    "val dsn_hostname =\"<your hostname>\"  // e.g.  awh-yp-small03.services.dal.bluemix.net\n",
    "val dsn_port = \"<your port>\"   // e.g.  50001\n",
    "val dsn_database = \"<default database>\"   // e.g. BLUDB"
   ]
  },
  {
   "cell_type": "markdown",
   "metadata": {},
   "source": [
    "## Create the DB2 database connection\n",
    "\n",
    "The following code snippet creates a connection string `dsn`\n",
    "and uses the `dsn` to create a DB2 connection object, `connection`.\n",
    "\n",
    "All of this information must be captured in a DSN connection string."
   ]
  },
  {
   "cell_type": "code",
   "execution_count": null,
   "metadata": {
    "collapsed": false
   },
   "outputs": [],
   "source": [
    "val jdbcurl  = \"jdbc:db2://\"+dsn_hostname+\":\"+dsn_port+\"/\"+dsn_database+\":user=\"+dsn_username+\";password=\"+dsn_password+\";sslConnection=true;\"\n",
    "val connection = java.sql.DriverManager.getConnection(jdbcurl)\n",
    "connection"
   ]
  },
  {
   "cell_type": "markdown",
   "metadata": {},
   "source": [
    "## Query the Data\n",
    "You can now use the connection object `connection` to query the database.\n",
    "\n",
    "In this section we use sample data that is provided in BigSQL by default. We will use to run queries and create reports about the fictional __Sample Outdoor Company__. \n",
    "\n",
    "The schema that is used in this tutorial is the GOSALESDW. It contains fact tables for the following areas:\n",
    "\n",
    "* Distribution\n",
    "* Finance\n",
    "* Geography\n",
    "* Marketing\n",
    "* Organization\n",
    "* Personnel\n",
    "* Products\n",
    "* Retailers\n",
    "* Sales\n",
    "* Time."
   ]
  },
  {
   "cell_type": "code",
   "execution_count": null,
   "metadata": {
    "collapsed": false
   },
   "outputs": [],
   "source": [
    "val query = \"select * from gosalesdw.emp_employee_dim LIMIT 10\";\n",
    "val resultSet = connection.createStatement.executeQuery(query)\n",
    "while ( resultSet.next() ) {\n",
    "    val name = resultSet.getString(\"EMPLOYEE_NAME\")\n",
    "    val key = resultSet.getString(\"EMPLOYEE_KEY\")\n",
    "    println(\"Employee key, name = \" + key + \", \" + name)\n",
    "}"
   ]
  },
  {
   "cell_type": "markdown",
   "metadata": {},
   "source": [
    "## Close the Connection\n",
    "It is good practice to close your database connection after work is done."
   ]
  },
  {
   "cell_type": "code",
   "execution_count": null,
   "metadata": {
    "collapsed": true
   },
   "outputs": [],
   "source": [
    "connection.close()"
   ]
  },
  {
   "cell_type": "markdown",
   "metadata": {},
   "source": [
    "## Want to learn more?"
   ]
  },
  {
   "cell_type": "markdown",
   "metadata": {},
   "source": [
    "### Free courses on [Big Data University](https://bigdatauniversity.com/courses/?utm_source=tutorial-dashdb-scala&utm_medium=dswb&utm_campaign=bdu):\n",
    "<a href=\"https://bigdatauniversity.com/courses/?utm_source=tutorial-dashdb-scala&utm_medium=dswb&utm_campaign=bdu\"><img src = \"https://ibm.box.com/shared/static/xomeu7dacwufkoawbg3owc8wzuezltn6.png\" width=600px> </a>"
   ]
  },
  {
   "cell_type": "markdown",
   "metadata": {},
   "source": [
    "<h3>Authors:</h3>\n",
    "<br>\n",
    "<a href=\"https://ca.linkedin.com/in/saeedaghabozorgi\">\n",
    "    <div class=\"teacher-image\" style=\"    float: left;\n",
    "        width: 115px;\n",
    "        height: 115px;\n",
    "        margin-right: 10px;\n",
    "        margin-bottom: 10px;\n",
    "        border: 1px solid #CCC;\n",
    "        padding: 3px;\n",
    "        border-radius: 3px;\n",
    "        text-align: center;\"><img class=\"alignnone wp-image-2258 \" src=\"https://ibm.box.com/shared/static/tyd41rlrnmfrrk78jx521eb73fljwvv0.jpg\" alt=\"Saeed Aghabozorgi\" width=\"178\" height=\"178\"/>\n",
    "    </div>\n",
    "</a>\n",
    "\n",
    "<h4>Saeed Aghabozorgi</h4>\n",
    "<p><a href=\"https://ca.linkedin.com/in/saeedaghabozorgi\">Saeed Aghabozorgi</a>, PhD is a Data Scientist in IBM with a track record of developing enterprise level applications that substantially increases clients' ability to turn data into actionable knowledge. He is a researcher in data mining field and expert in developing advanced analytic methods like machine learning and statistical modelling on large datasets.</p>\n",
    "\n",
    "<br>\n",
    "\n",
    "<a href=\"https://ca.linkedin.com/in/polonglin\">\n",
    "    <div class=\"teacher-image\" style=\"    float: left;\n",
    "        width: 115px;\n",
    "        height: 115px;\n",
    "        margin-right: 10px;\n",
    "        margin-bottom: 10px;\n",
    "        border: 1px solid #CCC;\n",
    "        padding: 3px;\n",
    "        border-radius: 3px;\n",
    "        text-align: center;\"><img class=\"alignnone size-medium wp-image-2177\" src=\"https://ibm.box.com/shared/static/2ygdi03ahcr97df2ofrr6cf8knq4kodd.jpg\" alt=\"Polong Lin\" width=\"300\" height=\"300\"/>\n",
    "    </div>\n",
    "</a>\n",
    "<h4>Polong Lin</h4>\n",
    "<p>\n",
    "<a href=\"https://ca.linkedin.com/in/polonglin\">Polong Lin</a> is a Data Scientist at IBM in Canada. Under the Emerging Technologies division, Polong is responsible for educating the next generation of data scientists through Big Data University. Polong is a regular speaker in conferences and meetups, and holds a M.Sc. in Cognitive Psychology.</p>"
   ]
  },
  {
   "cell_type": "markdown",
   "metadata": {},
   "source": [
    "<hr>\n",
    "Copyright &copy; 2016 [Big Data University](https://bigdatauniversity.com/?utm_source=bducopyrightlink&utm_medium=dswb&utm_campaign=bdu). This notebook and its source code are released under the terms of the [MIT License](https://bigdatauniversity.com/mit-license/).​"
   ]
  }
 ],
 "metadata": {
  "kernelspec": {
   "display_name": "Apache Toree - Scala",
   "language": "scala",
   "name": "apache_toree_scala"
  },
  "language_info": {
   "name": "scala",
   "version": "2.10.4"
  },
  "widgets": {
   "state": {},
   "version": "1.1.2"
  }
 },
 "nbformat": 4,
 "nbformat_minor": 0
}
