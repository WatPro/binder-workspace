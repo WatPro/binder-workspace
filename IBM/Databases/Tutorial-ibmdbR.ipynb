{
 "cells": [
  {
   "cell_type": "markdown",
   "metadata": {},
   "source": [
    "# Connect to dashDB using R\n",
    "\n",
    "This notebook shows how to access dashDB Data Warehouse using R by following the steps below:\n",
    "1. Open the `ibmdbR` library\n",
    "1. Identify and enter the database connection credentials\n",
    "1. Create the database connection\n",
    "1. Use an ida.data.frame to read and manipulate tables\n",
    "1. Close the database connection\n",
    "\n",
    "## What is dashDB ?\n",
    "\n",
    "**dashDB** is a fully managed cloud data warehouse, purpose-built for analytics. It offers massively parallel processing (MPP) scale, and compatibility with a wide range of business intelligence (BI) tools.  \n",
    "\n",
    "\n",
    "__Notice:__ Get your own dashDB free of charge: \n",
    "\n",
    "<h3 align = \"center\">\n",
    "[Launch a dashDB service through Bluemix](https://console.ng.bluemix.net/?direct=classic/&amp;cm_mc_uid=&amp;cm_mc_sid_50200000=1453781614#/store/cloudOEPaneId=store&amp;serviceOfferingGuid=7c87c148-e1a4-4cb8-81f8-c5e74be7684b&CampID=DSWB)\n",
    "</h3>\n",
    "\n",
    "<a class=\"ibm-tooltip\" href=\"https://console.ng.bluemix.net/catalog/services/dashdb\" target=\"_blank\" title=\"\" id=\"ibm-tooltip-0\">\n",
    "<img alt=\"IBM Bluemix.Get started now\" height=\"193\" width=\"153\" src=\"https://ibm.box.com/shared/static/42yt39czuksqdi278xpy96txtlw3lfmb.png\" >\n",
    "</a>\n",
    "\n",
    "\n",
    "\n",
    "\n",
    "\n",
    "## Open the `ibmdbR` library\n",
    "\n",
    "R support for dashDB is provided by the [imdbR library](https://cran.r-project.org/web/packages/ibmdbR/ibmdbR.pdf). The `ibmdbR` library is pre-installed in your Data Scientist Workbench.\n",
    "One of the greatest advantages of using `ibmdbR` instead of other packages is memory saving. While other packages extract the data to working memory, `ibmdbR` works with in-database processing, which means that if you have a large amount of data, you won't have to worry about memory limit."
   ]
  },
  {
   "cell_type": "code",
   "execution_count": null,
   "metadata": {
    "collapsed": false
   },
   "outputs": [],
   "source": [
    "library(ibmdbR)"
   ]
  },
  {
   "cell_type": "markdown",
   "metadata": {},
   "source": [
    "When the command above completes, the `ibmdbR` library will be loaded in your notebook. \n",
    "\n",
    "\n",
    "## Identify the database connection credentials\n",
    "\n",
    "Connecting to dashDB database requires the following information:\n",
    "* Database name \n",
    "* Host DNS name or IP address \n",
    "* Host port\n",
    "* Connection protocol\n",
    "* User ID\n",
    "* User Password\n",
    "\n",
    "All of this information must be captured in a connection string in a subsequent step.\n",
    "\n",
    "__Notice:__ To obtain credentials follow this [user guide](http://support.datascientistworkbench.com/knowledgebase/articles/826020-getting-credentials-to-access-a-dashdb-data-wareho)\n"
   ]
  },
  {
   "cell_type": "code",
   "execution_count": null,
   "metadata": {
    "collapsed": false
   },
   "outputs": [],
   "source": [
    "dsn_uid = \"\";  # e.g.  dash104434\n",
    "dsn_pwd = \"\"   # e.g. xxxx\n",
    "dsn_hostname =\"\"  # e.g.  awh-yp-small03.services.dal.bluemix.net\n",
    "dsn_port = \"\"   # e.g.  50001\n",
    "dsn_database = \"\"   # e.g. BLUDB"
   ]
  },
  {
   "cell_type": "markdown",
   "metadata": {},
   "source": [
    "## Create the dashDB database connection\n",
    "\n",
    "In ibmdbR, we use ODBC to connect to a remote dashDB instance. To be able to use ODBC to connect, we need the __RODBC__ package, which is automaticaly loaded when we open the `ibmdbR` library.\n",
    "\n",
    "The following code snippet creates a connection string, using it to create a connection object. Then, it initializes the in-database functions for the connection."
   ]
  },
  {
   "cell_type": "code",
   "execution_count": null,
   "metadata": {
    "collapsed": false
   },
   "outputs": [],
   "source": [
    "con <- idaConnect(paste(\"DB2\",\n",
    "                        \";Database=BLUDB;Hostname=\", dsn_hostname,\n",
    "                        \";Port=\", dsn_port,\n",
    "                        \";PROTOCOL=TCPIP;UID=\", dsn_uid,\n",
    "                        \";PWD=\", dsn_pwd, \n",
    "                        sep=\"\")\n",
    "                  ,\"\",\"\")\n",
    "idaInit(con)"
   ]
  },
  {
   "cell_type": "markdown",
   "metadata": {},
   "source": [
    "## Working with the tables with data frames\n",
    "Once the connection i settled, you can check the existing tables with the following command."
   ]
  },
  {
   "cell_type": "code",
   "execution_count": null,
   "metadata": {
    "collapsed": false
   },
   "outputs": [],
   "source": [
    "idaShowTables()"
   ]
  },
  {
   "cell_type": "markdown",
   "metadata": {},
   "source": [
    "Since your dashDB account is brand new, it is normal for it to be clean. One way to add a table, is by uploading local data and creating your own table using the *as.ida.data.frame* function, which takes as arguments the data frame you want to upload and the name of the table to create."
   ]
  },
  {
   "cell_type": "code",
   "execution_count": null,
   "metadata": {
    "collapsed": false
   },
   "outputs": [],
   "source": [
    "#Deleting the table if it is already in the dashDB account\n",
    "if (\"IRIS\" %in% idaShowTables()) {\n",
    "    idaDeleteTable('IRIS')\n",
    "}\n",
    "#Table created using the built-in data frame iris\n",
    "iris.ida <- as.ida.data.frame(iris,'IRIS')\n",
    "idaShowTables()"
   ]
  },
  {
   "cell_type": "markdown",
   "metadata": {},
   "source": [
    "Since you have just created the table, you don't have to open it again, but, in case the case when you have just opened the connection and want to load a table, it can be done with the *ida.data.frame* function, which takes the name of the table as argument."
   ]
  },
  {
   "cell_type": "code",
   "execution_count": null,
   "metadata": {
    "collapsed": true
   },
   "outputs": [],
   "source": [
    "iris.ida <- ida.data.frame('IRIS')"
   ]
  },
  {
   "cell_type": "markdown",
   "metadata": {},
   "source": [
    "A great feature in the `ibmdbR` package is that you don't need to know SQL to work with it, because it 'translated' some of the functionalities of a regular R data frame into SQL, meaning that, for some purposes, you can treat *ida.data.frame* just like the usual *data.frame*."
   ]
  },
  {
   "cell_type": "markdown",
   "metadata": {},
   "source": [
    "For example, you can check the first few rows of the table with the *head* function or its dimensions with the *dim* function."
   ]
  },
  {
   "cell_type": "code",
   "execution_count": null,
   "metadata": {
    "collapsed": false
   },
   "outputs": [],
   "source": [
    "head(iris.ida)\n",
    "dim(iris.ida)"
   ]
  },
  {
   "cell_type": "markdown",
   "metadata": {},
   "source": [
    "Or you can create a new *ida.data.frame* using a logical filter in the original *ida.data.frame*."
   ]
  },
  {
   "cell_type": "code",
   "execution_count": null,
   "metadata": {
    "collapsed": false
   },
   "outputs": [],
   "source": [
    "ida.df = iris.ida[iris.ida$SepalWidth >= 3.3, c('Species', 'SepalLength')]\n",
    "head(ida.df)"
   ]
  },
  {
   "cell_type": "markdown",
   "metadata": {},
   "source": [
    "Now, if you want to extract the data from the *ida.data.frame* object into a regular *data.frame*, you cna use the function *idaSample*, which takes the *ida.data.frame* object with the data and the number of rows to extract."
   ]
  },
  {
   "cell_type": "code",
   "execution_count": null,
   "metadata": {
    "collapsed": false
   },
   "outputs": [],
   "source": [
    "df = idaSample(iris.ida, 3)\n",
    "class(df)\n",
    "df"
   ]
  },
  {
   "cell_type": "markdown",
   "metadata": {},
   "source": [
    "## Close the Connection\n",
    "At the end of the day, the connection wit the database needs to be closed, which can be easily done with the *idaClose* command."
   ]
  },
  {
   "cell_type": "code",
   "execution_count": null,
   "metadata": {
    "collapsed": false
   },
   "outputs": [],
   "source": [
    "idaClose(con)"
   ]
  },
  {
   "cell_type": "markdown",
   "metadata": {},
   "source": [
    "## Summary\n",
    "\n",
    "In this tutorial you established a connection to a dashDB from a R notebook using ibmdbR and queried sample data. Additional tutorials are available on our [Welcome](/pages/welcome) page."
   ]
  },
  {
   "cell_type": "markdown",
   "metadata": {},
   "source": [
    "<a href=\"http://bigdatauniversity.com/courses/introduction-to-data-analysis-using-r/?utm_source=tutorial-r-ggplot2&utm_medium=dswb&utm_campaign=bdu\"><img src = \"https://ibm.box.com/shared/static/1bzglzwk7nbjt2rflnnxth82n5bypxj6.png\"> </a>"
   ]
  },
  {
   "cell_type": "markdown",
   "metadata": {},
   "source": [
    "\n",
    "<h3>Authors:</h3>\n",
    "<article class=\"teacher\">\n",
    "<div class=\"teacher-image\" style=\"    float: left;\n",
    "    width: 115px;\n",
    "    height: 115px;\n",
    "    margin-right: 10px;\n",
    "    margin-bottom: 10px;\n",
    "    border: 1px solid #CCC;\n",
    "    padding: 3px;\n",
    "    border-radius: 3px;\n",
    "    text-align: center;\"><img class=\"alignnone wp-image-2258 \" src=\"https://ibm.box.com/shared/static/tyd41rlrnmfrrk78jx521eb73fljwvv0.jpg\" alt=\"Saeed Aghabozorgi\" width=\"178\" height=\"178\" /></div>\n",
    "<h4>Saeed Aghabozorgi</h4>\n",
    "<p><a href=\"https://ca.linkedin.com/in/saeedaghabozorgi\">Saeed Aghabozorgi</a>, PhD is a Data Scientist in IBM with a track record of developing enterprise level applications that substantially increases clients’ ability to turn data into actionable knowledge. He is a researcher in data mining field and expert in developing advanced analytic methods like machine learning and statistical modelling on large datasets.</p>\n",
    "</article>\n",
    "<article class=\"teacher\">\n",
    "<div class=\"teacher-image\" style=\"    float: left;\n",
    "    width: 115px;\n",
    "    height: 115px;\n",
    "    margin-right: 10px;\n",
    "    margin-bottom: 10px;\n",
    "    border: 1px solid #CCC;\n",
    "    padding: 3px;\n",
    "    border-radius: 3px;\n",
    "    text-align: center;\"><img class=\"alignnone size-medium wp-image-2177\" src=\"https://ibm.box.com/shared/static/2ygdi03ahcr97df2ofrr6cf8knq4kodd.jpg\" alt=\"Polong Lin\" width=\"300\" height=\"300\" /></div>\n",
    "<h4>Polong Lin</h4>\n",
    "<p>\n",
    "<a href=\"https://ca.linkedin.com/in/polonglin\">Polong Lin</a> is a Data Scientist at IBM in Canada. Under the Emerging Technologies division, Polong is responsible for educating the next generation of data scientists through Big Data University. Polong is a regular speaker in conferences and meetups, and holds a M.Sc. in Cognitive Psychology.</p>\n",
    "</article>"
   ]
  },
  {
   "cell_type": "markdown",
   "metadata": {},
   "source": [
    "<hr>\n",
    "Copyright &copy; 2016 [Big Data University](https://bigdatauniversity.com/?utm_source=bducopyrightlink&utm_medium=dswb&utm_campaign=bdu). This notebook and its source code are released under the terms of the [MIT License](https://bigdatauniversity.com/mit-license/).​"
   ]
  },
  {
   "cell_type": "code",
   "execution_count": null,
   "metadata": {
    "collapsed": true
   },
   "outputs": [],
   "source": []
  }
 ],
 "metadata": {
  "kernelspec": {
   "display_name": "R",
   "language": "R",
   "name": "ir"
  },
  "language_info": {
   "codemirror_mode": "r",
   "file_extension": ".r",
   "mimetype": "text/x-r-source",
   "name": "R",
   "pygments_lexer": "r",
   "version": "3.4.3"
  },
  "widgets": {
   "state": {},
   "version": "1.1.2"
  }
 },
 "nbformat": 4,
 "nbformat_minor": 0
}
