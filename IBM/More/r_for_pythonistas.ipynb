{
 "cells": [
  {
   "cell_type": "markdown",
   "metadata": {},
   "source": [
    "# R for Pythonistas  \n",
    "\n",
    "If you know `Python`, `matplotlib`, `pandas`, etc. and are looking to learn the `R` equivalents, this notebook is for you. It shows some common use cases in `Python` and then the equivalents in `R`. You'll use the [rpy2](http://rpy.sourceforge.net/rpy2/doc-2.4/html/index.html) package and the `%%R` magic throughout to keep the Python and R examples right next to one another for easy study.\n",
    "\n",
    "Install `rpy2` for Python now using `pip` if you haven't already."
   ]
  },
  {
   "cell_type": "code",
   "execution_count": 3,
   "metadata": {
    "collapsed": false
   },
   "outputs": [
    {
     "name": "stdout",
     "output_type": "stream",
     "text": [
      "Requirement already satisfied (use --upgrade to upgrade): rpy2 in /usr/local/lib/python2.7/dist-packages\n",
      "Cleaning up...\n"
     ]
    }
   ],
   "source": [
    "%%bash\n",
    "pip install rpy2"
   ]
  },
  {
   "cell_type": "markdown",
   "metadata": {},
   "source": [
    "Now enable the `rpy2.ipython` extension so that you can use the `%%R` magic."
   ]
  },
  {
   "cell_type": "code",
   "execution_count": 4,
   "metadata": {
    "collapsed": false
   },
   "outputs": [],
   "source": [
    "%load_ext rpy2.ipython"
   ]
  },
  {
   "cell_type": "markdown",
   "metadata": {},
   "source": [
    "## Language basics\n",
    "\n",
    "This section equates some basic language concepts between Python and R: lists / dictionaries, simple for-loops, and functions.\n",
    " \n",
    "### Lists and Lists\n",
    "\n",
    "In Python, a `list` is a mutable, 0-indexed sequence of values of any type."
   ]
  },
  {
   "cell_type": "code",
   "execution_count": 5,
   "metadata": {
    "collapsed": false
   },
   "outputs": [
    {
     "name": "stdout",
     "output_type": "stream",
     "text": [
      "['brown', 'blue', 'green', 2, 'NaN']\n",
      "[15, 23, 38, 84]\n",
      "[3, 4, 5, 6, 7, 8]\n",
      "23\n"
     ]
    }
   ],
   "source": [
    "pythonlist = ['brown', 'blue', 'green', 2, 'NaN']\n",
    "weights = [15, 23, 38, 84]\n",
    "ranges = range(3,9)\n",
    "print(pythonlist)\n",
    "print(weights)\n",
    "print(ranges)\n",
    "print(weights[1])"
   ]
  },
  {
   "cell_type": "markdown",
   "metadata": {},
   "source": [
    "In R, a `vector` is a mutable, 1-indexed sequence of values of a single type. A `list` is a mutable, 1-indexed sequence of values of any type."
   ]
  },
  {
   "cell_type": "code",
   "execution_count": 6,
   "metadata": {
    "collapsed": false
   },
   "outputs": [
    {
     "data": {
      "text/plain": [
       "[1] \"brown\" \"blue\"  \"green\" \"2\"     \"NA\"   \n",
       "[1] 15 23 38 84\n",
       "[1] 3 4 5 6 7 8 9\n",
       "[1] 23\n"
      ]
     },
     "metadata": {},
     "output_type": "display_data"
    }
   ],
   "source": [
    "%%R\n",
    "\n",
    "rlist <- c('brown', 'blue', 'green', 2, 'NA')\n",
    "weights <- c(15, 23, 38, 84)\n",
    "ranges <- c(3:9)\n",
    "print(rlist)\n",
    "print(weights)\n",
    "print(ranges)\n",
    "# note the double brackets for member selection\n",
    "print(weights[[2]])"
   ]
  },
  {
   "cell_type": "markdown",
   "metadata": {},
   "source": [
    "### Dictionaries and Lists\n",
    "\n",
    "In Python, a `dict` is an unordered immutable key to mutable value map."
   ]
  },
  {
   "cell_type": "code",
   "execution_count": 7,
   "metadata": {
    "collapsed": false
   },
   "outputs": [
    {
     "name": "stdout",
     "output_type": "stream",
     "text": [
      "{'a': 1, 'b': [1, 2, 3]}\n",
      "[1, 2, 3]\n"
     ]
    }
   ],
   "source": [
    "pythondict = {'a': 1, 'b': [1,2,3]}\n",
    "print(pythondict)\n",
    "print(pythondict['b'])"
   ]
  },
  {
   "cell_type": "markdown",
   "metadata": {},
   "source": [
    "In R, a `list` is also an ordered immutable key to mutable value ordered map."
   ]
  },
  {
   "cell_type": "code",
   "execution_count": 8,
   "metadata": {
    "collapsed": false
   },
   "outputs": [
    {
     "data": {
      "text/plain": [
       "$a\n",
       "[1] 1\n",
       "\n",
       "$b\n",
       "[1] 1 2 3\n",
       "\n",
       "[1] 1 2 3\n"
      ]
     },
     "metadata": {},
     "output_type": "display_data"
    }
   ],
   "source": [
    "%%R\n",
    "\n",
    "rlist <- list(a=1, b=c(1,2,3))\n",
    "print(rlist)\n",
    "print(rlist$b)"
   ]
  },
  {
   "cell_type": "markdown",
   "metadata": {},
   "source": [
    "### List Slicing\n",
    "\n",
    "In Python, the slice operator allows for the selection of an ordered subset of a list."
   ]
  },
  {
   "cell_type": "code",
   "execution_count": 9,
   "metadata": {
    "collapsed": false
   },
   "outputs": [
    {
     "name": "stdout",
     "output_type": "stream",
     "text": [
      "[3, 5, 7]\n",
      "[7, 9]\n"
     ]
    }
   ],
   "source": [
    "x = [1,3,5,7,9]\n",
    "print(x[1:4])\n",
    "print(x[3:])"
   ]
  },
  {
   "cell_type": "markdown",
   "metadata": {},
   "source": [
    "In R, the slice operator allows for index-based selection of any subset of a list."
   ]
  },
  {
   "cell_type": "code",
   "execution_count": 10,
   "metadata": {
    "collapsed": false
   },
   "outputs": [
    {
     "data": {
      "text/plain": [
       "[1] 3 5 7\n",
       "[1] 7 9\n"
      ]
     },
     "metadata": {},
     "output_type": "display_data"
    }
   ],
   "source": [
    "%%R\n",
    "x =c(1,3,5,7,9)\n",
    "print(x[c(2:4)])\n",
    "print(x[c(4,5)])"
   ]
  },
  {
   "cell_type": "markdown",
   "metadata": {},
   "source": [
    "### For-Loops\n",
    "\n",
    "Python supports for-loops over iterables."
   ]
  },
  {
   "cell_type": "code",
   "execution_count": 11,
   "metadata": {
    "collapsed": false
   },
   "outputs": [
    {
     "name": "stdout",
     "output_type": "stream",
     "text": [
      "my\n",
      "little\n",
      "cat\n"
     ]
    }
   ],
   "source": [
    "words = ['my', 'little', 'cat']\n",
    "for w in words:\n",
    "    print w"
   ]
  },
  {
   "cell_type": "markdown",
   "metadata": {},
   "source": [
    "R support is similar with block syntax for the loop body."
   ]
  },
  {
   "cell_type": "code",
   "execution_count": 12,
   "metadata": {
    "collapsed": false
   },
   "outputs": [
    {
     "data": {
      "text/plain": [
       "[1] \"my\"\n",
       "[1] \"little\"\n",
       "[1] \"cat\"\n"
      ]
     },
     "metadata": {},
     "output_type": "display_data"
    }
   ],
   "source": [
    "%%R\n",
    "\n",
    "words = c('my', 'little', 'cat')\n",
    "for(w in words) {\n",
    "    print(w)\n",
    "}"
   ]
  },
  {
   "cell_type": "markdown",
   "metadata": {},
   "source": [
    "Ranges enable simple count-based for-loops in Python."
   ]
  },
  {
   "cell_type": "code",
   "execution_count": 13,
   "metadata": {
    "collapsed": false
   },
   "outputs": [
    {
     "name": "stdout",
     "output_type": "stream",
     "text": [
      "2\n",
      "4\n",
      "6\n",
      "8\n",
      "10\n",
      "12\n",
      "14\n",
      "16\n",
      "18\n",
      "20\n"
     ]
    }
   ],
   "source": [
    "for n in xrange(2, 21):\n",
    "    if n % 2 == 0:\n",
    "        print(n)"
   ]
  },
  {
   "cell_type": "markdown",
   "metadata": {},
   "source": [
    "Again, the R code is similar."
   ]
  },
  {
   "cell_type": "code",
   "execution_count": 14,
   "metadata": {
    "collapsed": false
   },
   "outputs": [
    {
     "data": {
      "text/plain": [
       "[1] 2\n",
       "[1] 4\n",
       "[1] 6\n",
       "[1] 8\n",
       "[1] 10\n",
       "[1] 12\n",
       "[1] 14\n",
       "[1] 16\n",
       "[1] 18\n",
       "[1] 20\n"
      ]
     },
     "metadata": {},
     "output_type": "display_data"
    }
   ],
   "source": [
    "%%R\n",
    "\n",
    "for(n in 2:20) {\n",
    "    if(n%%2==0) {\n",
    "        print(n)\n",
    "    }\n",
    "}"
   ]
  },
  {
   "cell_type": "markdown",
   "metadata": {},
   "source": [
    "### Functions\n",
    "\n",
    "Python allows both positional and keyword arguments in functions."
   ]
  },
  {
   "cell_type": "code",
   "execution_count": 15,
   "metadata": {
    "collapsed": false
   },
   "outputs": [
    {
     "name": "stdout",
     "output_type": "stream",
     "text": [
      "This bird wouldn't fly\n",
      "if you put 1000 volts through it.\n",
      "Lovely plumage, Kiwi\n",
      "It's happy!\n",
      "\n",
      "This bird wouldn't fly\n",
      "if you put 1000 volts through it.\n",
      "Lovely plumage, Kiwi\n",
      "It's happy!\n",
      "\n",
      "This bird wouldn't run\n",
      "if you put 1000000 volts through it.\n",
      "Lovely plumage, Kiwi\n",
      "It's happy!\n",
      "\n",
      "This bird wouldn't VOOOOOM\n",
      "if you put 1000000 volts through it.\n",
      "Lovely plumage, Kiwi\n",
      "It's happy!\n",
      "\n",
      "This bird wouldn't jump\n",
      "if you put a million volts through it.\n",
      "Lovely plumage, Kiwi\n",
      "It's full of life!\n",
      "\n",
      "This bird wouldn't fly\n",
      "if you put a thousand volts through it.\n",
      "Lovely plumage, Kiwi\n",
      "It's pushing up the daisies!\n",
      "\n"
     ]
    }
   ],
   "source": [
    "def printing_values(voltage, state='happy', action='fly', kind='Kiwi'):\n",
    "    print(\"This bird wouldn't \"+ action)\n",
    "    print(\"if you put %s volts through it.\" %  voltage)\n",
    "    print(\"Lovely plumage, \"+ kind)\n",
    "    print(\"It's \"+ state + \"!\")\n",
    "    print('')\n",
    "    \n",
    "# 1 positional argument\n",
    "printing_values(1000)                                          \n",
    "\n",
    "# 1 keyword argument\n",
    "printing_values(voltage=1000)                                  \n",
    "\n",
    "# 2 keyword arguments\n",
    "printing_values(voltage=1000000, action='run') \n",
    "\n",
    "# 2 keyword arguments\n",
    "printing_values(action='VOOOOOM', voltage=1000000)\n",
    "\n",
    "# 3 positional arguments\n",
    "printing_values('a million', 'full of life', 'jump')\n",
    "\n",
    "# 1 positional, 1 keyword \n",
    "printing_values('a thousand', state='pushing up the daisies')"
   ]
  },
  {
   "cell_type": "markdown",
   "metadata": {},
   "source": [
    "R, too, supports positional and keyword arguments, called unnamed and named arguments respectively."
   ]
  },
  {
   "cell_type": "code",
   "execution_count": 16,
   "metadata": {
    "collapsed": false
   },
   "outputs": [
    {
     "data": {
      "text/plain": [
       "This bird wouldn't fly \n",
       "if you put 1000 volts through it. \n",
       "Lovely plumage, Kiwi \n",
       "It's happy! \n",
       "\n",
       "This bird wouldn't fly \n",
       "if you put 1000 volts through it. \n",
       "Lovely plumage, Kiwi \n",
       "It's happy! \n",
       "\n",
       "This bird wouldn't run \n",
       "if you put 1e+06 volts through it. \n",
       "Lovely plumage, Kiwi \n",
       "It's happy! \n",
       "\n",
       "This bird wouldn't VOOOOOM \n",
       "if you put 1e+06 volts through it. \n",
       "Lovely plumage, Kiwi \n",
       "It's happy! \n",
       "\n",
       "This bird wouldn't jump \n",
       "if you put a million volts through it. \n",
       "Lovely plumage, Kiwi \n",
       "It's full of life! \n",
       "\n",
       "This bird wouldn't fly \n",
       "if you put a thousand volts through it. \n",
       "Lovely plumage, Kiwi \n",
       "It's pushing up the daisies! \n",
       "\n"
      ]
     },
     "metadata": {},
     "output_type": "display_data"
    }
   ],
   "source": [
    "%%R\n",
    "\n",
    "printing_values <- function(voltage, state='happy', action='fly', type='Kiwi'){\n",
    "    cat(sprintf(\"This bird wouldn't %s \\n\", action))\n",
    "    cat(sprintf(\"if you put %s volts through it. \\n\" ,  voltage))\n",
    "    cat(sprintf(\"Lovely plumage, %s \\n\", type))\n",
    "    cat(sprintf(\"It's %s! \\n\", state))\n",
    "    cat('\\n')\n",
    "}\n",
    "\n",
    "# 1 positional argument\n",
    "printing_values(1000)                                          \n",
    "\n",
    "# 1 keyword argument\n",
    "printing_values(voltage=1000)                                  \n",
    "\n",
    "# 2 keyword arguments\n",
    "printing_values(voltage=1000000, action='run')                 \n",
    "\n",
    "# 2 keyword arguments\n",
    "printing_values(action='VOOOOOM', voltage=1000000)             \n",
    "\n",
    "# 3 positional arguments\n",
    "printing_values('a million', 'full of life', 'jump')           \n",
    "\n",
    "# 1 positional, 1 keyword \n",
    "printing_values('a thousand', state='pushing up the daisies')  "
   ]
  },
  {
   "cell_type": "markdown",
   "metadata": {},
   "source": [
    "### Variadic Functions\n",
    "\n",
    "Python use the `*` and `**` prefix on declare formal parameters that may capture an indeterminate number of position and keyword arguments at invocation time. The former becomes a tuple and the latter a dictionary."
   ]
  },
  {
   "cell_type": "code",
   "execution_count": 17,
   "metadata": {
    "collapsed": false
   },
   "outputs": [
    {
     "name": "stdout",
     "output_type": "stream",
     "text": [
      "First Name: Brian\n",
      "Last Name: Kernighan\n",
      "Famous Book: The C Programming Language\n",
      "Favorite Language: C\n",
      "Keywords: ()\n",
      "\n",
      "First Name: Gabe\n",
      "Last Name: Newell\n",
      "Alma Mater: Harvard Dropout\n",
      "Age: 52\n",
      "Keywords: ()\n",
      "\n",
      "First Name: Adele\n",
      "Last Name: Goldberg\n",
      "Age: 68\n",
      "Favorite Language: Smalltalk\n",
      "Keywords: ()\n",
      "\n",
      "First Name: Richard\n",
      "Last Name: Stallman\n",
      "Project: GNU\n",
      "Favorite Distro: Debian\n",
      "Keywords: ()\n",
      "\n",
      "First Name: Bill\n",
      "Last Name: Gates\n",
      "Company: Microsoft\n",
      "Favorite Language: C#\n",
      "Keywords: ()\n",
      "\n",
      "First Name: Steve\n",
      "Last Name: Wozniak\n",
      "Keywords: ('apple', 'geek')\n",
      "\n"
     ]
    }
   ],
   "source": [
    "def list_person(first_name, last_name, *args, **kwargs):\n",
    "    print(\"First Name: %s\" % first_name.title())\n",
    "    print(\"Last Name: %s\" % last_name.title())\n",
    "    for key in kwargs:\n",
    "        print(\"%s: %s\" % (key.title().replace('_', ' '), kwargs[key]))\n",
    "    print('Keywords: %s' % (args,))\n",
    "    print('')\n",
    "    \n",
    "# list_person('Steve') --throws exception as it needs 2 args at least\n",
    "list_person('brian', 'kernighan', favorite_language='C', famous_book='The C Programming Language')\n",
    "list_person('Gabe', 'newell', age=52, alma_mater='Harvard Dropout')\n",
    "list_person('adele', 'goldberg', age=68, favorite_language='Smalltalk')\n",
    "list_person('richard', 'stallman', favorite_distro='Debian',  project='GNU')\n",
    "list_person('Bill', 'Gates', favorite_language='C#', company='Microsoft')\n",
    "list_person('Steve', 'wozniak', 'apple', 'geek')"
   ]
  },
  {
   "cell_type": "markdown",
   "metadata": {},
   "source": [
    "In R, the `...` formal argument allows for an arbitrary number of parameters at invocation time. The `...` is of type `pairlist` but is more easily (and often) converted to a list for ease of use. Note that there is no direct equivalent to `*args` and `**kwargs` in the Python example above."
   ]
  },
  {
   "cell_type": "code",
   "execution_count": 18,
   "metadata": {
    "collapsed": false
   },
   "outputs": [
    {
     "data": {
      "text/plain": [
       "First Name: brian \n",
       "Last Name: kernighan \n",
       "favorite language: C\n",
       "famous book: The C Programming Language\n",
       "\n",
       "First Name: Gabe \n",
       "Last Name: newell \n",
       "age: 52\n",
       "alma mater: Harvard Dropout\n",
       "\n",
       "First Name: adele \n",
       "Last Name: goldberg \n",
       "age: 68\n",
       "favorite language: Smalltalk\n",
       "\n",
       "First Name: richard \n",
       "Last Name: stallman \n",
       "favorite distro: Debian\n",
       "project: GNU\n",
       "\n",
       "First Name: Bill \n",
       "Last Name: Gates \n",
       "favorite language: C#\n",
       "company: Microsoft\n",
       "\n",
       "First Name: Steve \n",
       "Last Name: wozniak \n",
       ": apple\n",
       ": geek\n",
       "\n"
      ]
     },
     "metadata": {},
     "output_type": "display_data"
    }
   ],
   "source": [
    "%%R\n",
    "\n",
    "list_person = function(first_name, last_name, ...) {\n",
    "    cat(sprintf(\"First Name: %s \\nLast Name: %s \\n\", first_name, last_name))\n",
    "    l <- list(...)\n",
    "    names <- names(l)\n",
    "    for (i in seq_along(l)) {\n",
    "        key <- gsub(\"_\", \" \", names[[i]])\n",
    "        cat(key, \": \", l[[i]], \"\\n\", sep=\"\")\n",
    "    }\n",
    "    cat('\\n')\n",
    "}\n",
    "# list_person('Steve') --throws exception as it needs 2 args\n",
    "list_person('brian', 'kernighan', favorite_language='C', famous_book='The C Programming Language')\n",
    "list_person('Gabe', 'newell', age=52, alma_mater='Harvard Dropout')\n",
    "list_person('adele', 'goldberg', age=68, favorite_language='Smalltalk')\n",
    "list_person('richard', 'stallman', favorite_distro='Debian',  project='GNU')\n",
    "list_person('Bill', 'Gates', favorite_language='C#', company='Microsoft')\n",
    "list_person('Steve', 'wozniak', 'apple', 'geek')"
   ]
  },
  {
   "cell_type": "markdown",
   "metadata": {},
   "source": [
    "## Data Frames \n",
    "\n",
    "This section equates common operations on Python `pandas.DataFrame` objects and the native R `data.frame` type: creation, column selection, row selection, summary stats, and grouping by columns.\n",
    "\n",
    "### Creation\n",
    "\n",
    "In its simplest form, `pandas.DataFrame` accepts a dictionary of named column data and a list of row labels."
   ]
  },
  {
   "cell_type": "code",
   "execution_count": 19,
   "metadata": {
    "collapsed": false
   },
   "outputs": [
    {
     "data": {
      "text/html": [
       "<div style=\"max-height:1000px;max-width:1500px;overflow:auto;\">\n",
       "<table border=\"1\" class=\"dataframe\">\n",
       "  <thead>\n",
       "    <tr style=\"text-align: right;\">\n",
       "      <th></th>\n",
       "      <th>GPA</th>\n",
       "      <th>Level</th>\n",
       "      <th>Score</th>\n",
       "    </tr>\n",
       "  </thead>\n",
       "  <tbody>\n",
       "    <tr>\n",
       "      <th>Amy</th>\n",
       "      <td> 1.3</td>\n",
       "      <td> A</td>\n",
       "      <td> 23</td>\n",
       "    </tr>\n",
       "    <tr>\n",
       "      <th>John</th>\n",
       "      <td> 2.8</td>\n",
       "      <td> C</td>\n",
       "      <td> 41</td>\n",
       "    </tr>\n",
       "    <tr>\n",
       "      <th>Peter</th>\n",
       "      <td> 3.1</td>\n",
       "      <td> A</td>\n",
       "      <td> 68</td>\n",
       "    </tr>\n",
       "    <tr>\n",
       "      <th>Jen</th>\n",
       "      <td> 4.4</td>\n",
       "      <td> D</td>\n",
       "      <td> 85</td>\n",
       "    </tr>\n",
       "  </tbody>\n",
       "</table>\n",
       "<p>4 rows × 3 columns</p>\n",
       "</div>"
      ],
      "text/plain": [
       "       GPA Level  Score\n",
       "Amy    1.3     A     23\n",
       "John   2.8     C     41\n",
       "Peter  3.1     A     68\n",
       "Jen    4.4     D     85\n",
       "\n",
       "[4 rows x 3 columns]"
      ]
     },
     "execution_count": 19,
     "metadata": {},
     "output_type": "execute_result"
    }
   ],
   "source": [
    "import pandas as pd\n",
    "\n",
    "columns = {'GPA' : [1.3, 2.8, 3.1, 4.4],\n",
    "           'Score': [23, 41, 68, 85],\n",
    "           'Level': [\"A\",\"C\",\"A\",\"D\"]}\n",
    "rows = ['Amy','John','Peter','Jen']\n",
    "students = pd.DataFrame(columns, index=rows)\n",
    "students"
   ]
  },
  {
   "cell_type": "markdown",
   "metadata": {},
   "source": [
    "The R `data.frame` accepts named arguments representing columns and a `row.names` list."
   ]
  },
  {
   "cell_type": "code",
   "execution_count": 20,
   "metadata": {
    "collapsed": false
   },
   "outputs": [
    {
     "data": {
      "text/plain": [
       "      GPA Score Level\n",
       "Amy   1.3    23     A\n",
       "John  2.8    41     C\n",
       "Peter 3.1    68     A\n",
       "Jen   4.4    85     D\n"
      ]
     },
     "metadata": {},
     "output_type": "display_data"
    }
   ],
   "source": [
    "%%R\n",
    "\n",
    "GPA <- c(1.3, 2.8, 3.1, 4.4)\n",
    "Score <- c(23, 41, 68, 85)\n",
    "Level <- c(\"A\", \"C\", \"A\", \"D\")\n",
    "students <- data.frame(GPA=GPA, Score=Score, Level=Level, row.names=c('Amy','John','Peter','Jen'))\n",
    "students"
   ]
  },
  {
   "cell_type": "markdown",
   "metadata": {},
   "source": [
    "### Column Selection\n",
    "\n",
    "`pandas.DataFrame` supports column selection via the index operator `[]`."
   ]
  },
  {
   "cell_type": "code",
   "execution_count": 21,
   "metadata": {
    "collapsed": false
   },
   "outputs": [
    {
     "data": {
      "text/html": [
       "<div style=\"max-height:1000px;max-width:1500px;overflow:auto;\">\n",
       "<table border=\"1\" class=\"dataframe\">\n",
       "  <thead>\n",
       "    <tr style=\"text-align: right;\">\n",
       "      <th></th>\n",
       "      <th>2</th>\n",
       "      <th>3</th>\n",
       "      <th>4</th>\n",
       "    </tr>\n",
       "  </thead>\n",
       "  <tbody>\n",
       "    <tr>\n",
       "      <th>0</th>\n",
       "      <td>  2</td>\n",
       "      <td>  3</td>\n",
       "      <td>  4</td>\n",
       "    </tr>\n",
       "    <tr>\n",
       "      <th>1</th>\n",
       "      <td> 12</td>\n",
       "      <td> 13</td>\n",
       "      <td> 14</td>\n",
       "    </tr>\n",
       "    <tr>\n",
       "      <th>2</th>\n",
       "      <td> 22</td>\n",
       "      <td> 23</td>\n",
       "      <td> 24</td>\n",
       "    </tr>\n",
       "    <tr>\n",
       "      <th>3</th>\n",
       "      <td> 32</td>\n",
       "      <td> 33</td>\n",
       "      <td> 34</td>\n",
       "    </tr>\n",
       "    <tr>\n",
       "      <th>4</th>\n",
       "      <td> 42</td>\n",
       "      <td> 43</td>\n",
       "      <td> 44</td>\n",
       "    </tr>\n",
       "    <tr>\n",
       "      <th>5</th>\n",
       "      <td> 52</td>\n",
       "      <td> 53</td>\n",
       "      <td> 54</td>\n",
       "    </tr>\n",
       "    <tr>\n",
       "      <th>6</th>\n",
       "      <td> 62</td>\n",
       "      <td> 63</td>\n",
       "      <td> 64</td>\n",
       "    </tr>\n",
       "    <tr>\n",
       "      <th>7</th>\n",
       "      <td> 72</td>\n",
       "      <td> 73</td>\n",
       "      <td> 74</td>\n",
       "    </tr>\n",
       "    <tr>\n",
       "      <th>8</th>\n",
       "      <td> 82</td>\n",
       "      <td> 83</td>\n",
       "      <td> 84</td>\n",
       "    </tr>\n",
       "    <tr>\n",
       "      <th>9</th>\n",
       "      <td> 92</td>\n",
       "      <td> 93</td>\n",
       "      <td> 94</td>\n",
       "    </tr>\n",
       "  </tbody>\n",
       "</table>\n",
       "<p>10 rows × 3 columns</p>\n",
       "</div>"
      ],
      "text/plain": [
       "    2   3   4\n",
       "0   2   3   4\n",
       "1  12  13  14\n",
       "2  22  23  24\n",
       "3  32  33  34\n",
       "4  42  43  44\n",
       "5  52  53  54\n",
       "6  62  63  64\n",
       "7  72  73  74\n",
       "8  82  83  84\n",
       "9  92  93  94\n",
       "\n",
       "[10 rows x 3 columns]"
      ]
     },
     "execution_count": 21,
     "metadata": {},
     "output_type": "execute_result"
    }
   ],
   "source": [
    "import numpy as np\n",
    "\n",
    "# 10x10 grid of ints 0 to 99 inclusive\n",
    "mat = np.reshape(xrange(100), (10,10))\n",
    "df = pd.DataFrame(mat)\n",
    "# select columns 2, 3, and 4\n",
    "df[[2,3,4]]"
   ]
  },
  {
   "cell_type": "markdown",
   "metadata": {},
   "source": [
    "R's `data.frame` supports column selection via the index operator `[rows, columns]` as well where ommitting the `rows` selects all rows for the given columns."
   ]
  },
  {
   "cell_type": "code",
   "execution_count": 22,
   "metadata": {
    "collapsed": false
   },
   "outputs": [
    {
     "data": {
      "text/plain": [
       "   X3 X4 X5\n",
       "1   2  3  4\n",
       "2  12 13 14\n",
       "3  22 23 24\n",
       "4  32 33 34\n",
       "5  42 43 44\n",
       "6  52 53 54\n",
       "7  62 63 64\n",
       "8  72 73 74\n",
       "9  82 83 84\n",
       "10 92 93 94\n"
      ]
     },
     "metadata": {},
     "output_type": "display_data"
    }
   ],
   "source": [
    "%%R\n",
    "mat <- t(matrix(c(0:99), ncol=10))\n",
    "df <- data.frame(mat)\n",
    "df[,c(3,4,5)]"
   ]
  },
  {
   "cell_type": "markdown",
   "metadata": {},
   "source": [
    "### Row Selection\n",
    "\n",
    "There are many methods of selection by row index in a `pandas.DataFrame`. The one depicted here selects rows by their index label."
   ]
  },
  {
   "cell_type": "code",
   "execution_count": 23,
   "metadata": {
    "collapsed": false
   },
   "outputs": [
    {
     "data": {
      "text/html": [
       "<div style=\"max-height:1000px;max-width:1500px;overflow:auto;\">\n",
       "<table border=\"1\" class=\"dataframe\">\n",
       "  <thead>\n",
       "    <tr style=\"text-align: right;\">\n",
       "      <th></th>\n",
       "      <th>0</th>\n",
       "      <th>1</th>\n",
       "      <th>2</th>\n",
       "      <th>3</th>\n",
       "      <th>4</th>\n",
       "      <th>5</th>\n",
       "      <th>6</th>\n",
       "      <th>7</th>\n",
       "      <th>8</th>\n",
       "      <th>9</th>\n",
       "    </tr>\n",
       "  </thead>\n",
       "  <tbody>\n",
       "    <tr>\n",
       "      <th>E</th>\n",
       "      <td> 40</td>\n",
       "      <td> 41</td>\n",
       "      <td> 42</td>\n",
       "      <td> 43</td>\n",
       "      <td> 44</td>\n",
       "      <td> 45</td>\n",
       "      <td> 46</td>\n",
       "      <td> 47</td>\n",
       "      <td> 48</td>\n",
       "      <td> 49</td>\n",
       "    </tr>\n",
       "    <tr>\n",
       "      <th>G</th>\n",
       "      <td> 60</td>\n",
       "      <td> 61</td>\n",
       "      <td> 62</td>\n",
       "      <td> 63</td>\n",
       "      <td> 64</td>\n",
       "      <td> 65</td>\n",
       "      <td> 66</td>\n",
       "      <td> 67</td>\n",
       "      <td> 68</td>\n",
       "      <td> 69</td>\n",
       "    </tr>\n",
       "    <tr>\n",
       "      <th>J</th>\n",
       "      <td> 90</td>\n",
       "      <td> 91</td>\n",
       "      <td> 92</td>\n",
       "      <td> 93</td>\n",
       "      <td> 94</td>\n",
       "      <td> 95</td>\n",
       "      <td> 96</td>\n",
       "      <td> 97</td>\n",
       "      <td> 98</td>\n",
       "      <td> 99</td>\n",
       "    </tr>\n",
       "  </tbody>\n",
       "</table>\n",
       "<p>3 rows × 10 columns</p>\n",
       "</div>"
      ],
      "text/plain": [
       "    0   1   2   3   4   5   6   7   8   9\n",
       "E  40  41  42  43  44  45  46  47  48  49\n",
       "G  60  61  62  63  64  65  66  67  68  69\n",
       "J  90  91  92  93  94  95  96  97  98  99\n",
       "\n",
       "[3 rows x 10 columns]"
      ]
     },
     "execution_count": 23,
     "metadata": {},
     "output_type": "execute_result"
    }
   ],
   "source": [
    "import string\n",
    "\n",
    "# 10x10 grid of ints 0 to 99 inclusive\n",
    "mat = np.reshape(xrange(100), (10,10))\n",
    "# index by letters A-J\n",
    "df = pd.DataFrame(mat, index=list(string.letters[:10]))\n",
    "# select rows E, G, J\n",
    "df.loc[['E', 'G', 'J']]"
   ]
  },
  {
   "cell_type": "markdown",
   "metadata": {},
   "source": [
    "The R `data.frame` supports row selection via the `[rows, columns]` index operator where ommitting the columns selects all columns for the given rows."
   ]
  },
  {
   "cell_type": "code",
   "execution_count": 24,
   "metadata": {
    "collapsed": false
   },
   "outputs": [
    {
     "data": {
      "text/plain": [
       "  X1 X2 X3 X4 X5 X6 X7 X8 X9 X10\n",
       "E 40 41 42 43 44 45 46 47 48  49\n",
       "G 60 61 62 63 64 65 66 67 68  69\n",
       "J 90 91 92 93 94 95 96 97 98  99\n"
      ]
     },
     "metadata": {},
     "output_type": "display_data"
    }
   ],
   "source": [
    "%%R\n",
    "mat <- t(matrix(c(0:99), ncol=10))\n",
    "df <- data.frame(mat, row.names=LETTERS[1:10])\n",
    "df[c('E', 'G', 'J'),]"
   ]
  },
  {
   "cell_type": "markdown",
   "metadata": {},
   "source": [
    "### Summary Statistics"
   ]
  },
  {
   "cell_type": "markdown",
   "metadata": {},
   "source": [
    "`pandas.DataFrame` has a `describe` method which prints summary statistics for all numeric columns."
   ]
  },
  {
   "cell_type": "code",
   "execution_count": 25,
   "metadata": {
    "collapsed": false
   },
   "outputs": [
    {
     "data": {
      "text/html": [
       "<div style=\"max-height:1000px;max-width:1500px;overflow:auto;\">\n",
       "<table border=\"1\" class=\"dataframe\">\n",
       "  <thead>\n",
       "    <tr style=\"text-align: right;\">\n",
       "      <th></th>\n",
       "      <th>GPA</th>\n",
       "      <th>Score</th>\n",
       "    </tr>\n",
       "  </thead>\n",
       "  <tbody>\n",
       "    <tr>\n",
       "      <th>count</th>\n",
       "      <td> 4.000000</td>\n",
       "      <td>  4.000000</td>\n",
       "    </tr>\n",
       "    <tr>\n",
       "      <th>mean</th>\n",
       "      <td> 2.900000</td>\n",
       "      <td> 54.250000</td>\n",
       "    </tr>\n",
       "    <tr>\n",
       "      <th>std</th>\n",
       "      <td> 1.272792</td>\n",
       "      <td> 27.608875</td>\n",
       "    </tr>\n",
       "    <tr>\n",
       "      <th>min</th>\n",
       "      <td> 1.300000</td>\n",
       "      <td> 23.000000</td>\n",
       "    </tr>\n",
       "    <tr>\n",
       "      <th>25%</th>\n",
       "      <td> 2.425000</td>\n",
       "      <td> 36.500000</td>\n",
       "    </tr>\n",
       "    <tr>\n",
       "      <th>50%</th>\n",
       "      <td> 2.950000</td>\n",
       "      <td> 54.500000</td>\n",
       "    </tr>\n",
       "    <tr>\n",
       "      <th>75%</th>\n",
       "      <td> 3.425000</td>\n",
       "      <td> 72.250000</td>\n",
       "    </tr>\n",
       "    <tr>\n",
       "      <th>max</th>\n",
       "      <td> 4.400000</td>\n",
       "      <td> 85.000000</td>\n",
       "    </tr>\n",
       "  </tbody>\n",
       "</table>\n",
       "<p>8 rows × 2 columns</p>\n",
       "</div>"
      ],
      "text/plain": [
       "            GPA      Score\n",
       "count  4.000000   4.000000\n",
       "mean   2.900000  54.250000\n",
       "std    1.272792  27.608875\n",
       "min    1.300000  23.000000\n",
       "25%    2.425000  36.500000\n",
       "50%    2.950000  54.500000\n",
       "75%    3.425000  72.250000\n",
       "max    4.400000  85.000000\n",
       "\n",
       "[8 rows x 2 columns]"
      ]
     },
     "execution_count": 25,
     "metadata": {},
     "output_type": "execute_result"
    }
   ],
   "source": [
    "columns = {'GPA' : [1.3, 2.8, 3.1, 4.4],\n",
    "           'Score': [23, 41, 68, 85],\n",
    "           'Level': [\"A\",\"C\",\"A\",\"D\"]}\n",
    "rows = ['Amy','John','Peter','Jen']\n",
    "students = pd.DataFrame(columns, index=rows)\n",
    "students.describe()"
   ]
  },
  {
   "cell_type": "markdown",
   "metadata": {},
   "source": [
    "R has an `summary` function which is roughly equivalent."
   ]
  },
  {
   "cell_type": "code",
   "execution_count": 26,
   "metadata": {
    "collapsed": false
   },
   "outputs": [
    {
     "data": {
      "text/plain": [
       "      GPA            Score       Level\n",
       " Min.   :1.300   Min.   :23.00   A:2  \n",
       " 1st Qu.:2.425   1st Qu.:36.50   C:1  \n",
       " Median :2.950   Median :54.50   D:1  \n",
       " Mean   :2.900   Mean   :54.25        \n",
       " 3rd Qu.:3.425   3rd Qu.:72.25        \n",
       " Max.   :4.400   Max.   :85.00        \n"
      ]
     },
     "metadata": {},
     "output_type": "display_data"
    }
   ],
   "source": [
    "%%R\n",
    "\n",
    "GPA <- c(1.3, 2.8, 3.1, 4.4)\n",
    "Score <- c(23, 41, 68, 85)\n",
    "Level <- c(\"A\", \"C\", \"A\", \"D\")\n",
    "students <- data.frame(GPA=GPA, Score=Score, Level=Level, row.names=c('Amy','John','Peter','Jen'))\n",
    "summary(students)"
   ]
  },
  {
   "cell_type": "markdown",
   "metadata": {},
   "source": [
    "### Group-By Columns\n",
    "\n",
    "`pandas.DataFrame` defines a `groupby` method that supports the grouping of rows by a column and application of a function to the groups."
   ]
  },
  {
   "cell_type": "code",
   "execution_count": 27,
   "metadata": {
    "collapsed": false
   },
   "outputs": [
    {
     "data": {
      "text/html": [
       "<div style=\"max-height:1000px;max-width:1500px;overflow:auto;\">\n",
       "<table border=\"1\" class=\"dataframe\">\n",
       "  <thead>\n",
       "    <tr style=\"text-align: right;\">\n",
       "      <th></th>\n",
       "      <th>GPA</th>\n",
       "      <th>Score</th>\n",
       "    </tr>\n",
       "    <tr>\n",
       "      <th>Level</th>\n",
       "      <th></th>\n",
       "      <th></th>\n",
       "    </tr>\n",
       "  </thead>\n",
       "  <tbody>\n",
       "    <tr>\n",
       "      <th>A</th>\n",
       "      <td> 2.2</td>\n",
       "      <td> 45.5</td>\n",
       "    </tr>\n",
       "    <tr>\n",
       "      <th>C</th>\n",
       "      <td> 2.8</td>\n",
       "      <td> 41.0</td>\n",
       "    </tr>\n",
       "    <tr>\n",
       "      <th>D</th>\n",
       "      <td> 4.4</td>\n",
       "      <td> 85.0</td>\n",
       "    </tr>\n",
       "  </tbody>\n",
       "</table>\n",
       "<p>3 rows × 2 columns</p>\n",
       "</div>"
      ],
      "text/plain": [
       "       GPA  Score\n",
       "Level            \n",
       "A      2.2   45.5\n",
       "C      2.8   41.0\n",
       "D      4.4   85.0\n",
       "\n",
       "[3 rows x 2 columns]"
      ]
     },
     "execution_count": 27,
     "metadata": {},
     "output_type": "execute_result"
    }
   ],
   "source": [
    "columns = {'GPA' : [1.3, 2.8, 3.1, 4.4],\n",
    "           'Score': [23, 41, 68, 85],\n",
    "           'Level': [\"A\",\"C\",\"A\",\"D\"]}\n",
    "rows = ['Amy','John','Peter','Jen']\n",
    "students = pd.DataFrame(columns, index=rows)\n",
    "students.groupby(['Level']).mean()"
   ]
  },
  {
   "cell_type": "markdown",
   "metadata": {},
   "source": [
    "The R `aggregate` function achieves a similar transformation on `data.frame` types."
   ]
  },
  {
   "cell_type": "code",
   "execution_count": 28,
   "metadata": {
    "collapsed": false
   },
   "outputs": [
    {
     "data": {
      "text/plain": [
       "  Group.1 GPA Score Level\n",
       "1       A 2.2  45.5    NA\n",
       "2       C 2.8  41.0    NA\n",
       "3       D 4.4  85.0    NA\n"
      ]
     },
     "metadata": {},
     "output_type": "display_data"
    }
   ],
   "source": [
    "%%R\n",
    "\n",
    "GPA <- c(1.3, 2.8, 3.1, 4.4)\n",
    "Score <- c(23, 41, 68, 85)\n",
    "Level <- c(\"A\", \"C\", \"A\", \"D\")\n",
    "students <- data.frame(GPA=GPA, Score=Score, Level=Level, row.names=c('Amy','John','Peter','Jen'))\n",
    "aggregate(students, by=list(Level), FUN=mean)"
   ]
  },
  {
   "cell_type": "markdown",
   "metadata": {},
   "source": [
    "## Plotting \n",
    "\n",
    "In Python, [matplotlib](http://matplotlib.org/) is the de facto standard for plotting. Pandas wraps it to support easy plotting of DataFrames. The IPython notebook has a magic to enable inline plots from matplotlib."
   ]
  },
  {
   "cell_type": "code",
   "execution_count": 29,
   "metadata": {
    "collapsed": false
   },
   "outputs": [],
   "source": [
    "%matplotlib inline"
   ]
  },
  {
   "cell_type": "markdown",
   "metadata": {},
   "source": [
    "Pandas can also improve the default styling of plots in one line."
   ]
  },
  {
   "cell_type": "code",
   "execution_count": 30,
   "metadata": {
    "collapsed": false
   },
   "outputs": [],
   "source": [
    "pd.options.display.mpl_style = 'default'"
   ]
  },
  {
   "cell_type": "markdown",
   "metadata": {},
   "source": [
    "R has a built in `plot()` function and formatting helpers, but the [ggplot2](http://docs.ggplot2.org/current/) package is more powerful, more customizable, and more commonly used.\n",
    "\n",
    "If you have not installed `ggplot2` before, do so with these two steps:\n",
    "1. Make the following two cells (containing `wget` and `install.packages(...)` commands) runnable, by changing their cell type from \"Markdown\" to \"Code\" using the Menu **Cell**, then **Cell Type** and **Code**.\n",
    "2. Run both cells.\n",
    "3. After successful execution, change the cell type back to \"Markdown\" to avoid future execution.\n",
    "\n",
    "<div class=\"alert alert-block alert-info\" style=\"margin-top: 20px\">**Note:** The cells are not runnable by default to avoid accidental execution. Downloading and installing the packages takes time and modifies your Knowledge Anyhow Workbench environment. If packages are no longer available at the given URLs when you attempt the download, search the [Cran R archive](http://cran.r-project.org/src/contrib/Archive) for the correct package version.</div>"
   ]
  },
  {
   "cell_type": "markdown",
   "metadata": {},
   "source": [
    "!wget http://cran.r-project.org/src/contrib/Archive/MASS/MASS_7.3-37.tar.gz -O /home/notebook/R/MASS_7.3-37.tar.gz\n",
    "!wget http://cran.r-project.org/src/contrib/Archive/Rcpp/Rcpp_0.11.3.tar.gz -O /home/notebook/R/Rcpp_0.11.3.tar.gz\n",
    "!wget http://cran.r-project.org/src/contrib/plyr_1.8.1.tar.gz -O /home/notebook/R/plyr_1.8.1.tar.gz\n",
    "!wget http://cran.r-project.org/src/contrib/Archive/gtable/gtable_0.1.1.tar.gz -O /home/notebook/R/gtable_0.1.1.tar.gz\n",
    "!wget http://cran.r-project.org/src/contrib/Archive/reshape2/reshape2_1.4.tar.gz -O /home/notebook/R/reshape2_1.4.tar.gz\n",
    "!wget http://cran.r-project.org/src/contrib/Archive/RColorBrewer/RColorBrewer_1.0-5.tar.gz -O /home/notebook/R/RColorBrewer_1.0-5.tar.gz\n",
    "!wget http://cran.r-project.org/src/contrib/Archive/dichromat/dichromat_1.2-4.tar.gz -O /home/notebook/R/dichromat_1.2-4.tar.gz\n",
    "!wget http://cran.r-project.org/src/contrib/Archive/colorspace/colorspace_1.2-4.tar.gz -O /home/notebook/R/colorspace_1.2-4.tar.gz\n",
    "!wget http://cran.r-project.org/src/contrib/Archive/munsell/munsell_0.4.tar.gz -O /home/notebook/R/munsell_0.4.tar.gz\n",
    "!wget http://cran.r-project.org/src/contrib/Archive/labeling/labeling_0.2.tar.gz -O /home/notebook/R/labeling_0.2.tar.gz\n",
    "!wget http://cran.r-project.org/src/contrib/Archive/scales/scales_0.2.3.tar.gz -O /home/notebook/R/scales_0.2.3.tar.gz\n",
    "!wget http://cran.r-project.org/src/contrib/proto_0.3-10.tar.gz -O /home/notebook/R/proto_0.3-10.tar.gz\n",
    "!wget http://cran.r-project.org/src/contrib/Archive/ggplot2/ggplot2_0.9.3.1.tar.gz -O /home/notebook/R/ggplot2_0.9.3.1.tar.gz"
   ]
  },
  {
   "cell_type": "markdown",
   "metadata": {},
   "source": [
    "%%R\n",
    "install.packages(\"/home/notebook/R/MASS_7.3-37.tar.gz\", repos=NULL, type=\"source\")\n",
    "install.packages(\"/home/notebook/R/Rcpp_0.11.3.tar.gz\", repos=NULL, type=\"source\")\n",
    "install.packages(\"/home/notebook/R/plyr_1.8.1.tar.gz\", repos=NULL, type=\"source\")\n",
    "install.packages(\"/home/notebook/R/gtable_0.1.1.tar.gz\", repos=NULL, type=\"source\")\n",
    "install.packages(\"/home/notebook/R/reshape2_1.4.tar.gz\", repos=NULL, type=\"source\")\n",
    "install.packages(\"/home/notebook/R/RColorBrewer_1.0-5.tar.gz\", repos=NULL, type=\"source\")\n",
    "install.packages(\"/home/notebook/R/dichromat_1.2-4.tar.gz\", repos=NULL, type=\"source\")\n",
    "install.packages(\"/home/notebook/R/colorspace_1.2-4.tar.gz\", repos=NULL, type=\"source\")\n",
    "install.packages(\"/home/notebook/R/munsell_0.4.tar.gz\", repos=NULL, type=\"source\")\n",
    "install.packages(\"/home/notebook/R/labeling_0.2.tar.gz\", repos=NULL, type=\"source\")\n",
    "install.packages(\"/home/notebook/R/scales_0.2.3.tar.gz\", repos=NULL, type=\"source\")\n",
    "install.packages(\"/home/notebook/R/proto_0.3-10.tar.gz\", repos=NULL, type=\"source\")\n",
    "install.packages(\"/home/notebook/R/ggplot2_0.9.3.1.tar.gz\", repos=NULL, type=\"source\")"
   ]
  },
  {
   "cell_type": "markdown",
   "metadata": {},
   "source": [
    "Then load the `ggplot2` library."
   ]
  },
  {
   "cell_type": "code",
   "execution_count": 40,
   "metadata": {
    "collapsed": false
   },
   "outputs": [],
   "source": [
    "%%R\n",
    "library(\"ggplot2\")"
   ]
  },
  {
   "cell_type": "markdown",
   "metadata": {},
   "source": [
    "### Scatter Plot  Data Frame Columns\n",
    "\n",
    "`pandas.DataFrame` can render a matplotlib scatter plot of multiple columns with the `plot` method."
   ]
  },
  {
   "cell_type": "code",
   "execution_count": 41,
   "metadata": {
    "collapsed": false
   },
   "outputs": [
    {
     "data": {
      "text/plain": [
       "<matplotlib.text.Text at 0x7fd67ba61610>"
      ]
     },
     "execution_count": 41,
     "metadata": {},
     "output_type": "execute_result"
    },
    {
     "data": {
      "image/png": "[encoded data removed]",
      "text/plain": [
       "<matplotlib.figure.Figure at 0x7fd67d4792d0>"
      ]
     },
     "metadata": {},
     "output_type": "display_data"
    }
   ],
   "source": [
    "# 10x10 grid of numbers from std normal distribution\n",
    "mat = np.random.randn(10, 10)\n",
    "# index by letters A-J, columns by letters K-T\n",
    "df = pd.DataFrame(mat, columns=list(string.letters[10:20]), index=list(string.letters[:10]))\n",
    "\n",
    "ax = df.plot(kind='scatter', x='K', y='L', c='r', label='K vs L')\n",
    "df.plot(kind='scatter', x='M', y='N', c='b', label='M vs N', ax=ax)\n",
    "ax.set_title('Scatter Plot')\n",
    "ax.set_xlabel('K and M')\n",
    "ax.set_ylabel('L and N')"
   ]
  },
  {
   "cell_type": "markdown",
   "metadata": {},
   "source": [
    "`ggplot2` renders scatter plots using the `geom_point` function. Call `ggplot` and pass the `data.frame` to initialize the plot. Add additional objects to it (`geom_point`, `xlab`, etc.) to create the layers and plot annotations. Use the `aes` parameter, short for *aesthetic*, to control the data to plot, the colors, legends, etc.\n",
    "\n",
    "**Note**: We'll ensure the same data appears in the R plot as in the Python plot by pushing the Python `numpy` matrix to R and build an R `data.frame` from it. We'll also pass additional arguments to the `%%R` magic to control the plot size and make it roughly equivalent to the Python version."
   ]
  },
  {
   "cell_type": "code",
   "execution_count": 42,
   "metadata": {
    "collapsed": true
   },
   "outputs": [],
   "source": [
    "# share the Python variable mat with R so we can plot the same data\n",
    "%Rpush mat"
   ]
  },
  {
   "cell_type": "code",
   "execution_count": 43,
   "metadata": {
    "collapsed": false
   },
   "outputs": [
    {
     "data": {
      "image/png": "[encoded data removed]"
     },
     "metadata": {},
     "output_type": "display_data"
    }
   ],
   "source": [
    "%%R -w 480 -h 300 -u px\n",
    "\n",
    "df <- data.frame(mat, row.names=LETTERS[1:10])\n",
    "colnames(df) <- LETTERS[11:20]\n",
    "\n",
    "ggplot(df) +\n",
    "    geom_point(aes(x=df$K, y=df$L, colour=\"K vs L\")) +\n",
    "    geom_point(aes(x=df$M, y=df$N, colour=\"M vs N\")) +\n",
    "    guides(col=guide_legend(title=NULL)) +\n",
    "    xlab(\"K and M\") +\n",
    "    ylab(\"L and N\") +\n",
    "    ggtitle(\"Scatter Plot\")"
   ]
  },
  {
   "cell_type": "markdown",
   "metadata": {},
   "source": [
    "### Line Plot Data Frame Columns\n",
    "\n",
    "`pandas.DataFrame.plot` produces line plots by default for all columns in a DataFrame."
   ]
  },
  {
   "cell_type": "code",
   "execution_count": 44,
   "metadata": {
    "collapsed": false
   },
   "outputs": [
    {
     "data": {
      "image/png": "[encoded data removed]",
      "text/plain": [
       "<matplotlib.figure.Figure at 0x7fd67b941e90>"
      ]
     },
     "metadata": {},
     "output_type": "display_data"
    }
   ],
   "source": [
    "ax = df[['L', 'N']].plot(title='Line Plot')"
   ]
  },
  {
   "cell_type": "markdown",
   "metadata": {},
   "source": [
    "`ggplot` renders line graphs using the `geom_line` function. Again, pass the `data.frame` to `ggplot` and add the return values of additional function calls (e.g., `geom_line`, `guides`, `ggtitle`, etc.) to it."
   ]
  },
  {
   "cell_type": "code",
   "execution_count": 45,
   "metadata": {
    "collapsed": false,
    "scrolled": false
   },
   "outputs": [
    {
     "data": {
      "image/png": "[encoded data removed]"
     },
     "metadata": {},
     "output_type": "display_data"
    }
   ],
   "source": [
    "%%R -w 480 -h 300 -u px\n",
    "\n",
    "ggplot(df) + \n",
    "    geom_line(aes(x=rownames(df), y=L, group=1, col=\"L\")) + \n",
    "    geom_line(aes(x=rownames(df), y=N, group=1, col=\"N\")) +\n",
    "    guides(col=guide_legend(title=NULL)) +\n",
    "    xlab(NULL) +\n",
    "    ylab(NULL) +\n",
    "    ggtitle(\"Line Plot\")"
   ]
  },
  {
   "cell_type": "markdown",
   "metadata": {},
   "source": [
    "### Plot Formatting\n",
    "\n",
    "`pandas.DataFrame.plot` passes most styling arguments through to matplotlib."
   ]
  },
  {
   "cell_type": "code",
   "execution_count": 46,
   "metadata": {
    "collapsed": false
   },
   "outputs": [
    {
     "data": {
      "text/plain": [
       "<matplotlib.text.Text at 0x7fd67bdfe090>"
      ]
     },
     "execution_count": 46,
     "metadata": {},
     "output_type": "execute_result"
    },
    {
     "data": {
      "image/png": "[encoded data removed]",
      "text/plain": [
       "<matplotlib.figure.Figure at 0x7fd67b95a9d0>"
      ]
     },
     "metadata": {},
     "output_type": "display_data"
    }
   ],
   "source": [
    "ax = df[['L', 'N']].plot(color=['g','b'], style='--')\n",
    "ax.set_title('Line Plot', fontdict=dict(fontsize=20))\n",
    "ax.set_xlabel('X Axis', fontsize=16, color='r')\n",
    "ax.set_ylabel('Y Axis', fontsize=16, color ='m')"
   ]
  },
  {
   "cell_type": "markdown",
   "metadata": {},
   "source": [
    "`ggplot2` uses the [aes](http://docs.ggplot2.org/0.9.3.1/aes_linetype_size_shape.html) and [theme](http://docs.ggplot2.org/0.9.3.1/theme.html) functions to control the styling of a plot."
   ]
  },
  {
   "cell_type": "code",
   "execution_count": 47,
   "metadata": {
    "collapsed": false
   },
   "outputs": [
    {
     "data": {
      "image/png": "[encoded data removed]"
     },
     "metadata": {},
     "output_type": "display_data"
    }
   ],
   "source": [
    "%%R -w 480 -h 300 -u px\n",
    "\n",
    "ggplot(df) + \n",
    "    geom_line(aes(x=rownames(df), y=L, group=1, col=\"L\"), linetype=\"dashed\") + \n",
    "    geom_line(aes(x=rownames(df), y=N, group=1, col=\"N\"), linetype=\"dashed\") +\n",
    "    guides(col=guide_legend(title=NULL)) +\n",
    "    theme(title = element_text(size=20),\n",
    "          axis.title.x = element_text(colour=\"red\", size=16),\n",
    "          axis.title.y = element_text(colour=\"magenta\", size=16)) +\n",
    "    xlab('X Axis') +\n",
    "    ylab('Y Axis') +\n",
    "    ggtitle(\"Line Plot\")"
   ]
  },
  {
   "cell_type": "markdown",
   "metadata": {},
   "source": [
    "## References\n",
    "\n",
    "For more information about R, check out the [documentation](http://cran.r-project.org/manuals.html), this [Quick-R blog](http://www.statmethods.net/) from the author of _R in Action_, and this [ggplot2 blog](http://www.cookbook-r.com/Graphs/) from the author of _R Graphics Cookbook_."
   ]
  },
  {
   "cell_type": "markdown",
   "metadata": {},
   "source": [
    "## Want to learn more?"
   ]
  },
  {
   "cell_type": "markdown",
   "metadata": {},
   "source": [
    "<a href=\"http://bigdatauniversity.com/courses/introduction-to-r/?utm_source=tutorial-r-for-pythonistas&utm_medium=dswb&utm_campaign=bdu\"><img src = \"https://ibm.box.com/shared/static/r3jvb2wbr4meivra8swkmuf5uo30hd9g.png\"> </a>"
   ]
  },
  {
   "cell_type": "markdown",
   "metadata": {},
   "source": [
    "Created by: <a href=\"https://bigdatauniversity.com/?utm_source=bducreatedbylink&utm_medium=dswb&utm_campaign=bdu\">The Cognitive Class Team</a>"
   ]
  }
 ],
 "metadata": {
  "kernelspec": {
   "display_name": "Python 2",
   "language": "python",
   "name": "python2"
  },
  "language_info": {
   "codemirror_mode": {
    "name": "ipython",
    "version": 2
   },
   "file_extension": ".py",
   "mimetype": "text/x-python",
   "name": "python",
   "nbconvert_exporter": "python",
   "pygments_lexer": "ipython2",
   "version": "2.7.11"
  },
  "widgets": {
   "state": {},
   "version": "1.1.2"
  }
 },
 "nbformat": 4,
 "nbformat_minor": 0
}
