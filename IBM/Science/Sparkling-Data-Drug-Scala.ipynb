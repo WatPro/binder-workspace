{
 "cells": [
  {
   "cell_type": "code",
   "execution_count": 30,
   "metadata": {
    "collapsed": true
   },
   "outputs": [],
   "source": [
    "import com.ibm.spark.ingest.Extensions._"
   ]
  },
  {
   "cell_type": "markdown",
   "metadata": {},
   "source": [
    "# Data preparation tutorial\n",
    "In this tutorial, we will use Scala to discover drug and customer data, examine data profiles, view value distributions, and assess data quality. Each section will prepare the data for further analysis"
   ]
  },
  {
   "cell_type": "markdown",
   "metadata": {},
   "source": [
    "## Part 1: Discover drug data from a directory of multiple file types\n",
    "The source directory /data/sampleDataDir contains several JSON files of drug data and one CSV file of customer data.\n",
    "File format discovery will load the most occuring type of data by default. In this case, the JSON drug data will be loaded."
   ]
  },
  {
   "cell_type": "code",
   "execution_count": 31,
   "metadata": {
    "collapsed": true
   },
   "outputs": [],
   "source": [
    "import sys.process._\n",
    "import java.net.URL\n",
    "import java.io.File\n",
    "\n",
    "def fileDownloader(url: String, filename: String) = {\n",
    "    new URL(url) #> new File(filename) !!\n",
    "}\n",
    "\n",
    "fileDownloader(\"https://ibm.box.com/shared/static/9nxnsf6xwmuczjea911xjxp8l21yyd2x.zip\", \"/resources/Sparklingdataset.zip\")"
   ]
  },
  {
   "cell_type": "raw",
   "metadata": {},
   "source": [
    "Sparkling feature - You can give a directory with folders/subfolders containing mixed types of files. \n",
    "Sparkling.data discovers your file types and returns a dataframe representing the most occurring type\n",
    "It will also gives visibility into the variety and ability to choose specific types. See more in Part 2"
   ]
  },
  {
   "cell_type": "code",
   "execution_count": 32,
   "metadata": {
    "collapsed": true
   },
   "outputs": [],
   "source": [
    "val sqlContext = new org.apache.spark.sql.SQLContext(sc)"
   ]
  },
  {
   "cell_type": "code",
   "execution_count": 33,
   "metadata": {
    "collapsed": true
   },
   "outputs": [],
   "source": [
    "val df = sqlContext.read.format(\"com.ibm.spark.discover\").load(\"/resources/data/sparklingdata/data/sampleDataDir\")"
   ]
  },
  {
   "cell_type": "markdown",
   "metadata": {},
   "source": [
    "## Visualize the drug data\n",
    "Now that the drug data is loaded, use this script to provide different formats for visualizing the data.\n"
   ]
  },
  {
   "cell_type": "code",
   "execution_count": 34,
   "metadata": {
    "collapsed": false
   },
   "outputs": [
    {
     "name": "stdout",
     "output_type": "stream",
     "text": [
      "root\n",
      " |-- Age: long (nullable = true)\n",
      " |-- BP: string (nullable = true)\n",
      " |-- Cholestrol: string (nullable = true)\n",
      " |-- Cost: string (nullable = true)\n",
      " |-- DateTested: string (nullable = true)\n",
      " |-- Drug: string (nullable = true)\n",
      " |-- Ent#: long (nullable = true)\n",
      " |-- Gender: string (nullable = true)\n",
      " |-- Potassium: double (nullable = true)\n",
      " |-- Sodium: double (nullable = true)\n",
      "\n"
     ]
    }
   ],
   "source": [
    "df.printSchema()\n",
    "df.show()"
   ]
  },
  {
   "cell_type": "markdown",
   "metadata": {},
   "source": [
    "## Visualize data types and distribution profiles\n",
    "Run the following script to produce four interactive charts so that we can explore the distribution profiles of the data."
   ]
  },
  {
   "cell_type": "raw",
   "metadata": {},
   "source": [
    "Sparkling feature - Types and distributions specific to types are discovered to return an enriched dataframe\n",
    "You can visualize the summary statistics to discover quality issues with your data \n"
   ]
  },
  {
   "cell_type": "code",
   "execution_count": 35,
   "metadata": {
    "collapsed": false
   },
   "outputs": [
    {
     "name": "stdout",
     "output_type": "stream",
     "text": [
      "root\n",
      " |-- Age: long (nullable = true)\n",
      " |-- BP: string (nullable = true)\n",
      " |-- Cholestrol: string (nullable = true)\n",
      " |-- Cost: short (nullable = true)\n",
      " |-- DateTested: timestamp (nullable = true)\n",
      " |-- Drug: string (nullable = true)\n",
      " |-- Ent#: long (nullable = true)\n",
      " |-- Gender: string (nullable = true)\n",
      " |-- Potassium: double (nullable = true)\n",
      " |-- Sodium: double (nullable = true)\n",
      "\n"
     ]
    }
   ],
   "source": [
    "val dfProfile = df.inferTypes.profile\n",
    "dfProfile.printSchema\n",
    "dfProfile.printProfile"
   ]
  },
  {
   "cell_type": "markdown",
   "metadata": {},
   "source": [
    "# Investigate and fix any bad data\n",
    "As we can see in the charts above, the numeric distributions chart shows 13 nulls in the Cost column. Let us investigate this further and fix any bad data."
   ]
  },
  {
   "cell_type": "raw",
   "metadata": {},
   "source": [
    "Sparkling feature - Fix bad data to make it ready for analysis. \n"
   ]
  },
  {
   "cell_type": "code",
   "execution_count": 36,
   "metadata": {
    "collapsed": true
   },
   "outputs": [],
   "source": [
    "val dfBaddata = df.enrich.option(\"revealNA\", Map(\"mode\" -> \"any\", \"brackets\" -> (\">[\", \"]<\"))).inferTypes\n",
    "dfBaddata.show"
   ]
  },
  {
   "cell_type": "code",
   "execution_count": 37,
   "metadata": {
    "collapsed": true
   },
   "outputs": [],
   "source": [
    "val dfCostBaddata = df.enrich.option(\"columns\", Array(\"Cost\")).option(\"revealNA\", Map(\"mode\" -> \"any\",\"type\" -> (\"struct\"))).inferTypes\n",
    "dfCostBaddata.show"
   ]
  },
  {
   "cell_type": "markdown",
   "metadata": {},
   "source": [
    "###  Fix bad data"
   ]
  },
  {
   "cell_type": "code",
   "execution_count": 38,
   "metadata": {
    "collapsed": false
   },
   "outputs": [
    {
     "name": "stdout",
     "output_type": "stream",
     "text": [
      "root\n",
      " |-- Age: long (nullable = true)\n",
      " |-- BP: string (nullable = true)\n",
      " |-- Cholestrol: string (nullable = true)\n",
      " |-- Cost: string (nullable = true)\n",
      " |-- DateTested: string (nullable = true)\n",
      " |-- Drug: string (nullable = true)\n",
      " |-- Ent#: long (nullable = true)\n",
      " |-- Gender: string (nullable = true)\n",
      " |-- Potassium: double (nullable = true)\n",
      " |-- Sodium: double (nullable = true)\n",
      "\n",
      "+---+------+----------+--------+-------------------+-----+----+------+---------+--------+\n",
      "|Age|    BP|Cholestrol|    Cost|         DateTested| Drug|Ent#|Gender|Potassium|  Sodium|\n",
      "+---+------+----------+--------+-------------------+-----+----+------+---------+--------+\n",
      "| 23|  HIGH|      HIGH|      11|1980-10-11T10:10:20|drugY|   1|     F| 0.031258|0.792535|\n",
      "| 47|   LOW|      HIGH|      14|1980-11-14T09:10:20|drugC|   2|     M| 0.056468|0.739309|\n",
      "| 47|   LOW|      HIGH|      14|1980-11-14T09:10:20|drugC|   3|     M| 0.068944|0.697269|\n",
      "| 28|NORMAL|      HIGH|   05,14|1990-05-14T05:12:05|drugX|   4|     F| 0.072289|0.563682|\n",
      "| 61|   LOW|      HIGH|   10,21|1980-10-11T10:10:20|drugY|   5|     F| 0.030998|0.559294|\n",
      "| 22|NORMAL|      HIGH|      19|1990-05-14T05:12:05|drugX|   6|     F| 0.078647|0.676901|\n",
      "| 49|NORMAL|      HIGH|      80|1980-10-11T10:10:20|drugY|   7|     F| 0.048518|0.789637|\n",
      "| 41|   LOW|      HIGH|   11,14|1980-11-14T09:10:20|drugC|   8|     M| 0.069461|0.766635|\n",
      "| 60|NORMAL|      HIGH|      11|1980-10-11T10:10:20|drugY|   9|     M|  0.05123|0.777205|\n",
      "| 43|   LOW|    NORMAL|     198|1980-10-11T10:10:20|drugY|  10|     M| 0.027164|0.526102|\n",
      "| 47|   LOW|      HIGH|    1,14|1980-11-14T09:10:20|drugC|  11|     F| 0.076147|0.896056|\n",
      "| 34|  HIGH|    NORMAL|1.981,09|1980-10-11T10:10:20|drugY|  12|     F| 0.034782|0.667775|\n",
      "| 43|   LOW|      HIGH|8.010,11|1980-10-11T10:10:20|drugY|  13|     M| 0.040746|0.626527|\n",
      "| 74|   LOW|      HIGH|   10,11|1980-10-11T10:10:20|drugY|  14|     F| 0.037851|0.792674|\n",
      "| 50|NORMAL|      HIGH|5.000,14|1990-05-14T05:12:05|drugX|  15|     F| 0.065166| 0.82778|\n",
      "| 16|  HIGH|    NORMAL|    1,11|1980-10-11T10:10:20|drugY|  16|     F| 0.053742|0.833837|\n",
      "| 69|   LOW|    NORMAL| 1.514,9|1990-05-14T05:12:05|drugX|  17|     M| 0.074111|0.848948|\n",
      "| 43|  HIGH|      HIGH|2.005,14|2009-05-14T05:12:05|drugA|  18|     M| 0.046979|0.656371|\n",
      "| 23|   LOW|      HIGH|1.911,14|1980-11-14T09:10:20|drugC|  19|     M| 0.076609| 0.55906|\n",
      "| 32|  HIGH|    NORMAL|1.980,10|1980-10-11T10:10:20|drugY|  20|     F| 0.024773|0.643455|\n",
      "+---+------+----------+--------+-------------------+-----+----+------+---------+--------+\n",
      "only showing top 20 rows\n",
      "\n"
     ]
    }
   ],
   "source": [
    "val drugDfForAnalysis_1 = df.enrich.\n",
    "  option(\"columns\", Array(\"Cost\")). \n",
    "  option(\"locale\", \"es\").\n",
    "  option(\"groupingUsed\", true).\n",
    "  option(\"extractFields\",false).inferTypes\n",
    "drugDfForAnalysis_1.printSchema\n",
    "drugDfForAnalysis_1.show\n",
    "drugDfForAnalysis_1.printTypes"
   ]
  },
  {
   "cell_type": "code",
   "execution_count": 39,
   "metadata": {
    "collapsed": false
   },
   "outputs": [
    {
     "name": "stdout",
     "output_type": "stream",
     "text": [
      "root\n",
      " |-- Age: long (nullable = true)\n",
      " |-- BP: string (nullable = true)\n",
      " |-- Cholestrol: string (nullable = true)\n",
      " |-- Cost: float (nullable = true)\n",
      " |-- DateTested: timestamp (nullable = true)\n",
      " |-- Drug: string (nullable = true)\n",
      " |-- Ent#: long (nullable = true)\n",
      " |-- Gender: string (nullable = true)\n",
      " |-- Potassium: double (nullable = true)\n",
      " |-- Sodium: double (nullable = true)\n",
      "\n"
     ]
    }
   ],
   "source": [
    "val drugDfForAnalysis = df.enrich.\n",
    "  option(\"locale\", \"es\").\n",
    "  option(\"groupingUsed\", true).\n",
    "  option(\"extractFields\", true).\n",
    "  inferTypes\n",
    "  \n",
    " drugDfForAnalysis.printSchema\n",
    "drugDfForAnalysis.show"
   ]
  },
  {
   "cell_type": "markdown",
   "metadata": {},
   "source": [
    "## Explore the statistics and distributions"
   ]
  },
  {
   "cell_type": "code",
   "execution_count": 53,
   "metadata": {
    "collapsed": false
   },
   "outputs": [
    {
     "name": "stdout",
     "output_type": "stream",
     "text": [
      "+---------+-------------------+----------+\n",
      "|     name|              value|    column|\n",
      "+---------+-------------------+----------+\n",
      "|     Long|                1.0|       Age|\n",
      "|   String|                1.0|        BP|\n",
      "|   String|                1.0|Cholestrol|\n",
      "|    Short|0.16666666666666666|      Cost|\n",
      "|   String|0.43333333333333335|      Cost|\n",
      "|     Byte|                0.4|      Cost|\n",
      "|Timestamp|                1.0|DateTested|\n",
      "|   String|                1.0|      Drug|\n",
      "|     Long|                1.0|      Ent#|\n",
      "|   String|                1.0|    Gender|\n",
      "|   Double|                1.0| Potassium|\n",
      "|   Double|                1.0|    Sodium|\n",
      "+---------+-------------------+----------+\n",
      "\n"
     ]
    }
   ],
   "source": [
    "val discovered_types = dfProfile.render(\"types\")\n",
    "discovered_types.show"
   ]
  },
  {
   "cell_type": "code",
   "execution_count": 60,
   "metadata": {
    "collapsed": false
   },
   "outputs": [
    {
     "name": "stdout",
     "output_type": "stream",
     "text": [
      "+------+-------------------+------+\n",
      "|  name|              value|column|\n",
      "+------+-------------------+------+\n",
      "| Short|0.16666666666666666|  Cost|\n",
      "|String|0.43333333333333335|  Cost|\n",
      "|  Byte|                0.4|  Cost|\n",
      "+------+-------------------+------+\n",
      "\n"
     ]
    }
   ],
   "source": [
    "val discovered_types_Cost = discovered_types.select(\"name\",\"value\", \"column\").filter(\"column = 'Cost'\")\n",
    "discovered_types_Cost.show"
   ]
  },
  {
   "cell_type": "code",
   "execution_count": 61,
   "metadata": {
    "collapsed": false
   },
   "outputs": [
    {
     "name": "stdout",
     "output_type": "stream",
     "text": [
      "+--------+------------------+------+\n",
      "|    name|             value|column|\n",
      "+--------+------------------+------+\n",
      "|   count|              17.0|  Cost|\n",
      "|    mean|162.76470588235293|  Cost|\n",
      "|     min|              11.0|  Cost|\n",
      "|     max|             811.0|  Cost|\n",
      "|   range|             800.0|  Cost|\n",
      "|  stddev|               NaN|  Cost|\n",
      "|variance|               NaN|  Cost|\n",
      "+--------+------------------+------+\n",
      "\n"
     ]
    }
   ],
   "source": [
    "val discovered_stats = dfProfile.render(\"stats\")\n",
    "discovered_stats.filter(discovered_stats(\"column\") === \"Cost\").show"
   ]
  },
  {
   "cell_type": "code",
   "execution_count": 62,
   "metadata": {
    "collapsed": false
   },
   "outputs": [
    {
     "name": "stdout",
     "output_type": "stream",
     "text": [
      "+-----------+-----+------+\n",
      "|       name|value|column|\n",
      "+-----------+-----+------+\n",
      "|    NaN-NaN|   13|  Cost|\n",
      "|  11.0-51.0|    7|  Cost|\n",
      "|  51.0-91.0|    2|  Cost|\n",
      "| 91.0-131.0|    3|  Cost|\n",
      "|131.0-171.0|    0|  Cost|\n",
      "|171.0-211.0|    3|  Cost|\n",
      "|211.0-251.0|    0|  Cost|\n",
      "|251.0-291.0|    0|  Cost|\n",
      "|291.0-331.0|    0|  Cost|\n",
      "|331.0-371.0|    0|  Cost|\n",
      "|371.0-411.0|    0|  Cost|\n",
      "|411.0-451.0|    0|  Cost|\n",
      "|451.0-491.0|    0|  Cost|\n",
      "|491.0-531.0|    0|  Cost|\n",
      "|531.0-571.0|    0|  Cost|\n",
      "|571.0-611.0|    0|  Cost|\n",
      "|611.0-651.0|    0|  Cost|\n",
      "|651.0-691.0|    0|  Cost|\n",
      "|691.0-731.0|    0|  Cost|\n",
      "|731.0-771.0|    0|  Cost|\n",
      "+-----------+-----+------+\n",
      "only showing top 20 rows\n",
      "\n"
     ]
    }
   ],
   "source": [
    "val discovered_histogram = dfProfile.render(\"histogram\")\n",
    "discovered_histogram.filter(discovered_histogram(\"column\") === \"Cost\").show"
   ]
  },
  {
   "cell_type": "code",
   "execution_count": 59,
   "metadata": {
    "collapsed": false
   },
   "outputs": [
    {
     "name": "stdout",
     "output_type": "stream",
     "text": [
      "+------+-----+----------+\n",
      "|  name|value|    column|\n",
      "+------+-----+----------+\n",
      "|   LOW|   16|        BP|\n",
      "|NORMAL|    7|        BP|\n",
      "|  HIGH|    7|        BP|\n",
      "|  HIGH|   20|Cholestrol|\n",
      "|NORMAL|   10|Cholestrol|\n",
      "| drugY|   19|      Drug|\n",
      "| drugC|    5|      Drug|\n",
      "| drugX|    5|      Drug|\n",
      "| drugA|    1|      Drug|\n",
      "|     F|   16|    Gender|\n",
      "|     M|   14|    Gender|\n",
      "+------+-----+----------+\n",
      "\n"
     ]
    }
   ],
   "source": [
    "val discovered_labels = dfProfile.render(\"labels\")\n",
    "discovered_labels.show"
   ]
  },
  {
   "cell_type": "code",
   "execution_count": 58,
   "metadata": {
    "collapsed": false
   },
   "outputs": [
    {
     "name": "stdout",
     "output_type": "stream",
     "text": [
      "+--------------------+-----+----------+\n",
      "|                name|value|    column|\n",
      "+--------------------+-----+----------+\n",
      "|1980-10-11 10:10:...|   24|DateTested|\n",
      "|1982-03-17 12:19:...|    0|DateTested|\n",
      "|1983-08-21 14:28:...|    0|DateTested|\n",
      "|1985-01-24 16:37:...|    0|DateTested|\n",
      "|1986-06-30 18:46:...|    0|DateTested|\n",
      "|1987-12-04 20:55:...|    0|DateTested|\n",
      "|1989-05-09 23:04:...|    5|DateTested|\n",
      "|1990-10-14 01:13:...|    0|DateTested|\n",
      "|1992-03-19 03:23:...|    0|DateTested|\n",
      "|1993-08-23 05:32:...|    0|DateTested|\n",
      "|1995-01-27 07:41:...|    0|DateTested|\n",
      "|1996-07-02 09:50:...|    0|DateTested|\n",
      "|1997-12-06 11:59:...|    0|DateTested|\n",
      "|1999-05-12 14:08:...|    0|DateTested|\n",
      "|2000-10-15 16:17:...|    0|DateTested|\n",
      "|2002-03-21 18:26:...|    0|DateTested|\n",
      "|2003-08-25 20:35:...|    0|DateTested|\n",
      "|2005-01-28 22:44:...|    0|DateTested|\n",
      "|2006-07-05 00:53:...|    0|DateTested|\n",
      "|2007-12-09 03:02:...|    1|DateTested|\n",
      "+--------------------+-----+----------+\n",
      "\n"
     ]
    }
   ],
   "source": [
    "val discovered_datetime = dfProfile.render(\"datetime\")\n",
    "discovered_datetime.show"
   ]
  },
  {
   "cell_type": "markdown",
   "metadata": {},
   "source": [
    "## Store data frame to disk and verify"
   ]
  },
  {
   "cell_type": "code",
   "execution_count": 46,
   "metadata": {
    "collapsed": true
   },
   "outputs": [],
   "source": [
    "drugDfForAnalysis.write.format(\"com.ibm.spark.discover\").save(\"/resources/data/sparklingdata/data/sampleDataDir/temp/drugDfForAnalysis.json\")"
   ]
  },
  {
   "cell_type": "code",
   "execution_count": 47,
   "metadata": {
    "collapsed": false
   },
   "outputs": [
    {
     "name": "stdout",
     "output_type": "stream",
     "text": [
      "Not available\n",
      "root\n",
      " |-- Age: long (nullable = true)\n",
      " |-- BP: string (nullable = true)\n",
      " |-- Cholestrol: string (nullable = true)\n",
      " |-- Cost: double (nullable = true)\n",
      " |-- DateTested: string (nullable = true)\n",
      " |-- Drug: string (nullable = true)\n",
      " |-- Ent#: long (nullable = true)\n",
      " |-- Gender: string (nullable = true)\n",
      " |-- Potassium: double (nullable = true)\n",
      " |-- Sodium: double (nullable = true)\n",
      "\n"
     ]
    }
   ],
   "source": [
    "val dfSavedDrugInfo2015 = sqlContext.read.format(\"com.ibm.spark.discover\").load(\"/resources/data/sparklingdata/data/sampleDataDir/temp/drugDfForAnalysis.json\")\n",
    "dfSavedDrugInfo2015.printSchema()\n",
    "dfSavedDrugInfo2015.show()"
   ]
  },
  {
   "cell_type": "markdown",
   "metadata": {},
   "source": [
    "# Part 2: Explore customer data and prepare for analysis\n",
    "Now that we have explored our drug data, let us explore our customer data.\n"
   ]
  },
  {
   "cell_type": "code",
   "execution_count": 48,
   "metadata": {
    "collapsed": false
   },
   "outputs": [
    {
     "name": "stdout",
     "output_type": "stream",
     "text": [
      "Not available\n",
      "root\n",
      " |-- C0: string (nullable = true)\n",
      " |-- C1: string (nullable = true)\n",
      " |-- C2: string (nullable = true)\n",
      " |-- C3: string (nullable = true)\n",
      " |-- C4: string (nullable = true)\n",
      "\n"
     ]
    }
   ],
   "source": [
    "val dfCust = sqlContext.read.format(\"com.ibm.spark.discover\").load(\"/resources/data/sparklingdata/data/sampleDataDir/customers.csv\")\n",
    "dfCust.printSchema\n",
    "dfCust.show"
   ]
  },
  {
   "cell_type": "code",
   "execution_count": 49,
   "metadata": {
    "collapsed": false
   },
   "outputs": [
    {
     "name": "stdout",
     "output_type": "stream",
     "text": [
      "root\n",
      " |-- C0: string (nullable = true)\n",
      " |-- C1: struct (nullable = true)\n",
      " |    |-- firstname: string (nullable = true)\n",
      " |    |-- middlename: string (nullable = true)\n",
      " |    |-- lastname: string (nullable = true)\n",
      " |    |-- person: string (nullable = true)\n",
      " |-- C2: struct (nullable = true)\n",
      " |    |-- organization: string (nullable = true)\n",
      " |-- C3: struct (nullable = true)\n",
      " |    |-- city: string (nullable = true)\n",
      " |    |-- stateorprovince: string (nullable = true)\n",
      " |    |-- zip: string (nullable = true)\n",
      " |    |-- address: string (nullable = true)\n",
      " |-- C4: float (nullable = true)\n",
      "\n"
     ]
    }
   ],
   "source": [
    "val dfcsv_infer = dfCust.enrich.option(\"semanticTypes\", true).option(\"extractFields\", true).inferTypes\n",
    "dfcsv_infer.printSchema\n",
    "dfcsv_infer.show"
   ]
  },
  {
   "cell_type": "code",
   "execution_count": 50,
   "metadata": {
    "collapsed": true
   },
   "outputs": [],
   "source": [
    "val dfcsv_reveal = dfCust.enrich.option(\"semanticTypes\", true).option(\"revealNA\", Map(\"mode\" -> \"any\", \"brackets\" -> (\">[\", \"]<\"))).inferTypes\n",
    "dfcsv_reveal.show"
   ]
  },
  {
   "cell_type": "code",
   "execution_count": 51,
   "metadata": {
    "collapsed": false
   },
   "outputs": [
    {
     "name": "stdout",
     "output_type": "stream",
     "text": [
      "C0:{\"inferred_type\":\"String\",\"inferred_occurrence\":\"100\",\"threshold%\":\"50\",\"DiscoveredDataTypes\":[String],\"DiscoveredDataTypePercentages\":[1.0]}\n",
      "C1:{\"inferred_type\":\"Person\",\"inferred_occurrence\":\"96\",\"threshold%\":\"50\",\"DiscoveredDataTypes\":[Person, String],\"DiscoveredDataTypePercentages\":[0.967741935483871, 0.03225806451612903]}\n",
      "C2:{\"inferred_type\":\"Organization\",\"inferred_occurrence\":\"80\",\"threshold%\":\"50\",\"DiscoveredDataTypes\":[Organization, String],\"DiscoveredDataTypePercentages\":[0.8064516129032258, 0.1935483870967742]}\n",
      "C3:{\"inferred_type\":\"Address\",\"inferred_occurrence\":\"100\",\"threshold%\":\"50\",\"DiscoveredDataTypes\":[Address],\"DiscoveredDataTypePercentages\":[1.0]}\n",
      "C4:{\"inferred_type\":\"Float\",\"inferred_occurrence\":\"100\",\"threshold%\":\"50\",\"DiscoveredDataTypes\":[Short, Float],\"DiscoveredDataTypePercentages\":[0.8064516129032258, 0.1935483870967742]}\n",
      "\n",
      "C0:{\"StatsNames\":[\"count\",\"numberOfCategories\",\"mode\"],\"inferred_type\":\"String\",\"inferred_occurrence\":100,\"Percentages\":[0.06451612903225806,0.06451612903225806,0.03225806451612903,0.03225806451612903,0.03225806451612903,0.03225806451612903],\"DiscoveredDataTypePercentages\":[1.0],\"Values\":[2,2,1,1,1,1],\"Labels\":[\"t4563\",\"t1239\",\"t2224\",\"t5823\",\"t8763\",\"t1234\"],\"threshold%\":50,\"Stats\":[\"31\",\"29\",\"t4563\"],\"DiscoveredDataTypes\":[\"String\"]}\n",
      "C1:{\"StatsNames\":[\"count\",\"numberOfCategories\",\"mode\"],\"inferred_type\":\"Person\",\"inferred_occurrence\":96,\"Percentages\":[0.0967741935483871,0.06451612903225806,0.06451612903225806,0.06451612903225806,0.06451612903225806,0.03225806451612903],\"DiscoveredDataTypePercentages\":[0.967741935483871,0.03225806451612903],\"Values\":[3,2,2,2,2,1],\"Labels\":[\"Lisa McDonald\",\"Jen Norman\",\"Stephen Brewster\",\"Mary Burchfield\",\"Lonnie Leo Gomez\",\"Peter Frost\"],\"threshold%\":50,\"Stats\":[\"31\",\"25\",\"Lisa McDonald\"],\"DiscoveredDataTypes\":[\"Person\",\"String\"]}\n",
      "C2:{\"StatsNames\":[\"count\",\"numberOfCategories\",\"mode\"],\"inferred_type\":\"Organization\",\"inferred_occurrence\":80,\"Percentages\":[0.1935483870967742,0.16129032258064516,0.12903225806451613,0.06451612903225806,0.06451612903225806,0.06451612903225806],\"DiscoveredDataTypePercentages\":[0.8064516129032258,0.1935483870967742],\"Values\":[6,5,4,2,2,2],\"Labels\":[\"Bank of America\",\"Bank of Texas\",\"Wells Fargo\",\"First American Bank\",\"\",\"UNITED HEALTHCARE SERVICES\"],\"threshold%\":50,\"Stats\":[\"31\",\"13\",\"Bank of America\"],\"DiscoveredDataTypes\":[\"Organization\",\"String\"]}\n",
      "C3:{\"StatsNames\":[\"count\",\"numberOfCategories\",\"mode\"],\"inferred_type\":\"Address\",\"inferred_occurrence\":100,\"Percentages\":[0.16129032258064516,0.16129032258064516,0.12903225806451613,0.12903225806451613,0.06451612903225806,0.06451612903225806],\"DiscoveredDataTypePercentages\":[1.0],\"Values\":[5,5,4,4,2,2],\"Labels\":[\"1234 Airline Dr, San Diego, CA\",\"1463 Braxton Street,Chicago, IL\",\"4589 Holly Street, Athens, GA 30606,USA\",\"69221 Newman Rd, Portland, Oregon, United States\",\"4075 Harley Brook Lane,Corry,PA,16407\",\"1463 Braxton Street, Chicago\\tIL, 60607\"],\"threshold%\":50,\"Stats\":[\"31\",\"13\",\"1234 Airline Dr, San Diego, CA\"],\"DiscoveredDataTypes\":[\"Address\"]}\n",
      "C4:{\"StatsNames\":[\"count\",\"numberOfCategories\",\"mode\"],\"inferred_type\":\"Float\",\"inferred_occurrence\":100,\"Percentages\":[0.0967741935483871,0.0967741935483871,0.06451612903225806,0.06451612903225806,0.03225806451612903,0.03225806451612903],\"DiscoveredDataTypePercentages\":[0.8064516129032258,0.1935483870967742],\"Values\":[3,3,2,2,1,1],\"Labels\":[\"450\",\"1000\",\"2000\",\"540\",\"800\",\"600\"],\"threshold%\":50,\"Stats\":[\"31\",\"25\",\"450\"],\"DiscoveredDataTypes\":[\"Short\",\"Float\"]}\n",
      "\n"
     ]
    }
   ],
   "source": [
    "val dfCustProfiled = dfCust.enrich.option(\"semanticTypes\", true).inferTypes.profile\n",
    "dfCustProfiled.printTypes\n",
    "dfCustProfiled.printProfile"
   ]
  },
  {
   "cell_type": "markdown",
   "metadata": {},
   "source": [
    "# Summary\n",
    "This tutorial showed how to discover and explore data and prepare it for further analysis. You can copy this notebook or parts of this notebook into your own notebook and adjust the code as needed."
   ]
  },
  {
   "cell_type": "raw",
   "metadata": {},
   "source": [
    "Sparkling feature - Discover variety of data types, clean them and make them ready for analysis using scala / python"
   ]
  },
  {
   "cell_type": "markdown",
   "metadata": {},
   "source": [
    "## Want to learn more?"
   ]
  },
  {
   "cell_type": "markdown",
   "metadata": {},
   "source": [
    "<a href=\"http://bigdatauniversity.com/courses/scala-course/?utm_source=tutorial-sparkling-scala&utm_medium=dswb&utm_campaign=bdu\"><img src = \"https://ibm.box.com/shared/static/qe9ofshd0nrhgcx7620cdf0a6mgn1qd2.png\"> </a>"
   ]
  },
  {
   "cell_type": "markdown",
   "metadata": {},
   "source": [
    "Created by: <a href=\"https://bigdatauniversity.com/?utm_source=bducreatedbylink&utm_medium=dswb&utm_campaign=bdu\">The Cognitive Class Team</a>"
   ]
  }
 ],
 "metadata": {
  "kernelspec": {
   "display_name": "Apache Toree - Scala",
   "language": "scala",
   "name": "apache_toree_scala"
  },
  "language_info": {
   "name": "scala"
  },
  "widgets": {
   "state": {},
   "version": "1.1.2"
  }
 },
 "nbformat": 4,
 "nbformat_minor": 0
}
