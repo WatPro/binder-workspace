{
 "cells": [
  {
   "cell_type": "markdown",
   "metadata": {},
   "source": [
    "# R for Pythonistas  \n",
    "\n",
    "If you know `Python`, `matplotlib`, `pandas`, etc. and are looking to learn the `R` equivalents, this notebook is for you. It shows some common use cases in `Python` and then the equivalents in `R`. You'll use the [rpy2](http://rpy.sourceforge.net/rpy2/doc-2.4/html/index.html) package and the `%%R` magic throughout to keep the Python and R examples right next to one another for easy study.\n",
    "\n",
    "Install `rpy2` for Python now using `pip` if you haven't already."
   ]
  },
  {
   "cell_type": "code",
   "execution_count": null,
   "metadata": {
    "collapsed": false
   },
   "outputs": [],
   "source": [
    "%%bash\n",
    "pip install rpy2"
   ]
  },
  {
   "cell_type": "markdown",
   "metadata": {},
   "source": [
    "Now enable the `rpy2.ipython` extension so that you can use the `%%R` magic."
   ]
  },
  {
   "cell_type": "code",
   "execution_count": null,
   "metadata": {
    "collapsed": false
   },
   "outputs": [],
   "source": [
    "%load_ext rpy2.ipython"
   ]
  },
  {
   "cell_type": "markdown",
   "metadata": {},
   "source": [
    "## Plotting \n",
    "\n",
    "In Python, [matplotlib](http://matplotlib.org/) is the de facto standard for plotting. Pandas wraps it to support easy plotting of DataFrames. The IPython notebook has a magic to enable inline plots from matplotlib."
   ]
  },
  {
   "cell_type": "code",
   "execution_count": null,
   "metadata": {
    "collapsed": false
   },
   "outputs": [],
   "source": [
    "%matplotlib inline"
   ]
  },
  {
   "cell_type": "markdown",
   "metadata": {},
   "source": [
    "Pandas can also improve the default styling of plots in one line."
   ]
  },
  {
   "cell_type": "code",
   "execution_count": null,
   "metadata": {
    "collapsed": false
   },
   "outputs": [],
   "source": [
    "pd.options.display.mpl_style = 'default'"
   ]
  },
  {
   "cell_type": "markdown",
   "metadata": {},
   "source": [
    "Then load the `ggplot2` library."
   ]
  },
  {
   "cell_type": "code",
   "execution_count": null,
   "metadata": {
    "collapsed": false
   },
   "outputs": [],
   "source": [
    "%%R\n",
    "library(\"ggplot2\")"
   ]
  },
  {
   "cell_type": "markdown",
   "metadata": {},
   "source": [
    "### Scatter Plot  Data Frame Columns\n",
    "\n",
    "`pandas.DataFrame` can render a matplotlib scatter plot of multiple columns with the `plot` method."
   ]
  },
  {
   "cell_type": "code",
   "execution_count": null,
   "metadata": {
    "collapsed": false
   },
   "outputs": [],
   "source": [
    "import numpy as np\n",
    "import pandas as pd\n",
    "import string\n",
    "\n",
    "# 10x10 grid of numbers from std normal distribution\n",
    "mat = np.random.randn(10, 10)\n",
    "# index by letters A-J, columns by letters K-T\n",
    "df = pd.DataFrame(mat, columns=list(string.letters[10:20]), index=list(string.letters[:10]))\n",
    "\n",
    "ax = df.plot(kind='scatter', x='K', y='L', c='r', label='K vs L')\n",
    "df.plot(kind='scatter', x='M', y='N', c='b', label='M vs N', ax=ax)\n",
    "ax.set_title('Scatter Plot')\n",
    "ax.set_xlabel('K and M')\n",
    "ax.set_ylabel('L and N')"
   ]
  },
  {
   "cell_type": "markdown",
   "metadata": {},
   "source": [
    "`ggplot2` renders scatter plots using the `geom_point` function. Call `ggplot` and pass the `data.frame` to initialize the plot. Add additional objects to it (`geom_point`, `xlab`, etc.) to create the layers and plot annotations. Use the `aes` parameter, short for *aesthetic*, to control the data to plot, the colors, legends, etc.\n",
    "\n",
    "**Note**: We'll ensure the same data appears in the R plot as in the Python plot by pushing the Python `numpy` matrix to R and build an R `data.frame` from it. We'll also pass additional arguments to the `%%R` magic to control the plot size and make it roughly equivalent to the Python version."
   ]
  },
  {
   "cell_type": "code",
   "execution_count": null,
   "metadata": {
    "collapsed": true
   },
   "outputs": [],
   "source": [
    "# share the Python variable mat with R so we can plot the same data\n",
    "%Rpush mat"
   ]
  },
  {
   "cell_type": "code",
   "execution_count": null,
   "metadata": {
    "collapsed": false
   },
   "outputs": [],
   "source": [
    "%%R -w 480 -h 300 -u px\n",
    "\n",
    "df <- data.frame(mat, row.names=LETTERS[1:10])\n",
    "colnames(df) <- LETTERS[11:20]\n",
    "\n",
    "ggplot(df) +\n",
    "    geom_point(aes(x=df$K, y=df$L, colour=\"K vs L\")) +\n",
    "    geom_point(aes(x=df$M, y=df$N, colour=\"M vs N\")) +\n",
    "    guides(col=guide_legend(title=NULL)) +\n",
    "    xlab(\"K and M\") +\n",
    "    ylab(\"L and N\") +\n",
    "    ggtitle(\"Scatter Plot\")"
   ]
  },
  {
   "cell_type": "markdown",
   "metadata": {},
   "source": [
    "### Line Plot Data Frame Columns\n",
    "\n",
    "`pandas.DataFrame.plot` produces line plots by default for all columns in a DataFrame."
   ]
  },
  {
   "cell_type": "code",
   "execution_count": null,
   "metadata": {
    "collapsed": false
   },
   "outputs": [],
   "source": [
    "ax = df[['L', 'N']].plot(title='Line Plot')"
   ]
  },
  {
   "cell_type": "markdown",
   "metadata": {},
   "source": [
    "`ggplot` renders line graphs using the `geom_line` function. Again, pass the `data.frame` to `ggplot` and add the return values of additional function calls (e.g., `geom_line`, `guides`, `ggtitle`, etc.) to it."
   ]
  },
  {
   "cell_type": "code",
   "execution_count": null,
   "metadata": {
    "collapsed": false,
    "scrolled": false
   },
   "outputs": [],
   "source": [
    "%%R -w 480 -h 300 -u px\n",
    "\n",
    "ggplot(df) + \n",
    "    geom_line(aes(x=rownames(df), y=L, group=1, col=\"L\")) + \n",
    "    geom_line(aes(x=rownames(df), y=N, group=1, col=\"N\")) +\n",
    "    guides(col=guide_legend(title=NULL)) +\n",
    "    xlab(NULL) +\n",
    "    ylab(NULL) +\n",
    "    ggtitle(\"Line Plot\")"
   ]
  },
  {
   "cell_type": "markdown",
   "metadata": {},
   "source": [
    "### Plot Formatting\n",
    "\n",
    "`pandas.DataFrame.plot` passes most styling arguments through to matplotlib."
   ]
  },
  {
   "cell_type": "code",
   "execution_count": null,
   "metadata": {
    "collapsed": false
   },
   "outputs": [],
   "source": [
    "ax = df[['L', 'N']].plot(color=['g','b'], style='--')\n",
    "ax.set_title('Line Plot', fontdict=dict(fontsize=20))\n",
    "ax.set_xlabel('X Axis', fontsize=16, color='r')\n",
    "ax.set_ylabel('Y Axis', fontsize=16, color ='m')"
   ]
  },
  {
   "cell_type": "markdown",
   "metadata": {},
   "source": [
    "`ggplot2` uses the [aes](http://docs.ggplot2.org/0.9.3.1/aes_linetype_size_shape.html) and [theme](http://docs.ggplot2.org/0.9.3.1/theme.html) functions to control the styling of a plot."
   ]
  },
  {
   "cell_type": "code",
   "execution_count": null,
   "metadata": {
    "collapsed": false
   },
   "outputs": [],
   "source": [
    "%%R -w 480 -h 300 -u px\n",
    "\n",
    "ggplot(df) + \n",
    "    geom_line(aes(x=rownames(df), y=L, group=1, col=\"L\"), linetype=\"dashed\") + \n",
    "    geom_line(aes(x=rownames(df), y=N, group=1, col=\"N\"), linetype=\"dashed\") +\n",
    "    guides(col=guide_legend(title=NULL)) +\n",
    "    theme(title = element_text(size=20),\n",
    "          axis.title.x = element_text(colour=\"red\", size=16),\n",
    "          axis.title.y = element_text(colour=\"magenta\", size=16)) +\n",
    "    xlab('X Axis') +\n",
    "    ylab('Y Axis') +\n",
    "    ggtitle(\"Line Plot\")"
   ]
  },
  {
   "cell_type": "markdown",
   "metadata": {},
   "source": [
    "## References\n",
    "\n",
    "For more information about R, check out the [documentation](http://cran.r-project.org/manuals.html), this [Quick-R blog](http://www.statmethods.net/) from the author of _R in Action_, and this [ggplot2 blog](http://www.cookbook-r.com/Graphs/) from the author of _R Graphics Cookbook_."
   ]
  },
  {
   "cell_type": "markdown",
   "metadata": {},
   "source": [
    "## Want to learn more?"
   ]
  },
  {
   "cell_type": "markdown",
   "metadata": {},
   "source": [
    "<a href=\"http://bigdatauniversity.com/courses/introduction-to-data-analysis-using-r/?utm_source=tutorial-r-ggplot2&utm_medium=dswb&utm_campaign=bdu\"><img src = \"https://ibm.box.com/shared/static/1bzglzwk7nbjt2rflnnxth82n5bypxj6.png\"> </a>"
   ]
  },
  {
   "cell_type": "markdown",
   "metadata": {},
   "source": [
    "Created by: <a href=\"https://bigdatauniversity.com/?utm_source=bducreatedbylink&utm_medium=dswb&utm_campaign=bdu\">The Cognitive Class Team</a>"
   ]
  }
 ],
 "metadata": {
  "kernelspec": {
   "display_name": "Python 2",
   "language": "python",
   "name": "python2"
  },
  "language_info": {
   "codemirror_mode": {
    "name": "ipython",
    "version": 2
   },
   "file_extension": ".py",
   "mimetype": "text/x-python",
   "name": "python",
   "nbconvert_exporter": "python",
   "pygments_lexer": "ipython2",
   "version": "2.7.12"
  },
  "widgets": {
   "state": {},
   "version": "1.1.2"
  }
 },
 "nbformat": 4,
 "nbformat_minor": 0
}
